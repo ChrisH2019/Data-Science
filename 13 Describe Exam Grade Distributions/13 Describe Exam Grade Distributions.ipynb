{
 "cells": [
  {
   "cell_type": "markdown",
   "metadata": {},
   "source": [
    "# Describe Exam Grade Distributions"
   ]
  },
  {
   "cell_type": "markdown",
   "metadata": {},
   "source": [
    "You are teaching a middle school computer science class, and have taken it upon yourself to understand how your class performed on each exam over the past year."
   ]
  },
  {
   "cell_type": "code",
   "execution_count": 7,
   "metadata": {},
   "outputs": [
    {
     "data": {
      "image/png": "[encoded data removed]",
      "text/plain": [
       "<Figure size 432x288 with 4 Axes>"
      ]
     },
     "metadata": {
      "needs_background": "light"
     },
     "output_type": "display_data"
    }
   ],
   "source": [
    "import pandas as pd \n",
    "import numpy as np\n",
    "from matplotlib import pyplot as plt\n",
    "\n",
    "\n",
    "np.random.seed(1)\n",
    "\n",
    "fig, axes = plt.subplots(nrows=4, ncols=1)\n",
    "\n",
    "plt.subplot(4,1,1)\n",
    "mu, sigma = 80,5\n",
    "exam_1 = np.random.normal(mu, sigma, 120)\n",
    "exam_1[50] = 55\n",
    "exam_1[51] = 55\n",
    "\n",
    "count, bins, ignored = plt.hist(exam_1, 25, range=[50, 100])\n",
    "plt.ylabel(\"Count\", fontsize=12)\n",
    "plt.title(\"Exam 1\", fontsize=14)\n",
    "\n",
    "\n",
    "\n",
    "plt.subplot(4,1,2)\n",
    "mu, sigma = 85,5\n",
    "exam_2_norm = np.random.normal(mu, sigma, 85)\n",
    "exam_2_u = np.random.uniform(60, 80, 35)\n",
    "exam_2 = np.concatenate((exam_2_norm, exam_2_u))\n",
    "\n",
    "count, bins, ignored = plt.hist(exam_2, 25, range=[50, 100])\n",
    "plt.ylabel(\"Count\", fontsize=12)\n",
    "plt.title(\"Exam 2\", fontsize=14)\n",
    "\n",
    "\n",
    "\n",
    "plt.subplot(4,1,3)\n",
    "mu, sigma = 85,5\n",
    "exam_2_norm = np.random.normal(mu, sigma, 70)\n",
    "exam_2_u = np.random.normal(65, 3.5, 50)\n",
    "exam_2 = np.concatenate((exam_2_norm, exam_2_u))\n",
    "\n",
    "count, bins, ignored = plt.hist(exam_2, 25, range=[50, 100])\n",
    "plt.ylabel(\"Count\", fontsize=12)\n",
    "plt.title(\"Exam 3\", fontsize=14)\n",
    "\n",
    "\n",
    "\n",
    "plt.subplot(4,1,4)\n",
    "mu, sigma = 80,6\n",
    "exam_2_norm = np.random.normal(mu, sigma, 120)\n",
    "exam_2 = np.concatenate((exam_2_norm, np.array([96,96])))\n",
    "\n",
    "\n",
    "count, bins, ignored = plt.hist(exam_2, 25, range=[50, 100])\n",
    "plt.xlabel(\"Score (%)\", fontsize=12)\n",
    "plt.ylabel(\"Count\", fontsize=12)\n",
    "plt.title(\"Final Exam\", fontsize=14)\n",
    "\n",
    "fig.tight_layout()\n",
    "\n",
    "plt.show()"
   ]
  },
  {
   "cell_type": "markdown",
   "metadata": {},
   "source": [
    "## Summary\n",
    "\n",
    "On exam 1, the average and median scores were 80 and 80 respectively. The distribution is symmetric with a similar distribution of scores to the left and right of the center.\n",
    "\n",
    "The range is close to 35, with the lowest grade close to 55 and the largest grade close to 90. There is one student, who scored close to 55, who is considered an outlier.\n",
    "\n",
    "#####################\n",
    "#####################\n",
    "\n",
    "On exam 2, the average and median scores were 82 and 84, respectively. The distribution has a left skew, which agrees with our finding that the average of our dataset is smaller than the median.\n",
    "\n",
    "The range is close to 38, with the lowest grade close to 60 and the largest grade close to 98.\n",
    "\n",
    "#####################\n",
    "#####################\n",
    "\n",
    "On exam 3, the average and median scores were 77 and 80 respectively. The distribution is bimodal, and both modes have a similar tail on both sides of their peak, indicating that each is symmetric.\n",
    "\n",
    "The range is close to 42, with the lowest grade close to 56 and the largest grade close to 98.\n",
    "\n",
    "\n",
    "#####################\n",
    "#####################\n",
    "\n",
    "\n",
    "On the final exam, the average and median scores were 80 and 80, respectively. The distribution is symmetric, with a similar distribution of scores to the left and right of the center.\n",
    "\n",
    "The range is close to 30, with the lowest grade close to 68 and the largest grade close to 98. There is one student, who scored close to 98, that is considered an outlier."
   ]
  },
  {
   "cell_type": "code",
   "execution_count": null,
   "metadata": {},
   "outputs": [],
   "source": []
  }
 ],
 "metadata": {
  "kernelspec": {
   "display_name": "Python 3",
   "language": "python",
   "name": "python3"
  },
  "language_info": {
   "codemirror_mode": {
    "name": "ipython",
    "version": 3
   },
   "file_extension": ".py",
   "mimetype": "text/x-python",
   "name": "python",
   "nbconvert_exporter": "python",
   "pygments_lexer": "ipython3",
   "version": "3.7.3"
  }
 },
 "nbformat": 4,
 "nbformat_minor": 2
}
