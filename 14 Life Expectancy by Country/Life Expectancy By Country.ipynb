{
 "cells": [
  {
   "cell_type": "markdown",
   "metadata": {},
   "source": [
    "# Life Expectancy By Country"
   ]
  },
  {
   "cell_type": "markdown",
   "metadata": {},
   "source": [
    "Over the course of the past few centuries, technological and medical advancements have helped increase the life expectancy of humans. However, as of now, the average life expectancy of humans varies depending on what country you live in.\n",
    "\n",
    "In this project, we will investigate a dataset containing information about the average life expectancy in 158 different countries. We will specifically look at how a country’s economic success might impact the life expectancy in that area."
   ]
  },
  {
   "cell_type": "code",
   "execution_count": 5,
   "metadata": {},
   "outputs": [
    {
     "name": "stdout",
     "output_type": "stream",
     "text": [
      "Low GDP Quartiles: [56.3375  64.34375 71.7375 ]\n",
      "Hight GDP Quartiles: [72.965625 75.15625  80.521875]\n"
     ]
    },
    {
     "data": {
      "image/png": "[encoded data removed]",
      "text/plain": [
       "<Figure size 432x288 with 1 Axes>"
      ]
     },
     "metadata": {
      "needs_background": "light"
     },
     "output_type": "display_data"
    }
   ],
   "source": [
    "import numpy as np\n",
    "import pandas as pd\n",
    "import matplotlib.pyplot as plt\n",
    "\n",
    "# imported a dataset containing the life expectancy in different countries.\n",
    "data = pd.read_csv(\"country_data.csv\")\n",
    "\n",
    "# Let’s isolate the column that contains the life expectancy\n",
    "# and store it in a variable named life_expectancy. \n",
    "life_expectancy = data['Life Expectancy']\n",
    "\n",
    "# Let’s use the np.quantile() function to find the quartiles of life_expectancy.\n",
    "life_expectancy_quartiles = np.quantile(life_expectancy, [0.25, 0.5, 0.75])\n",
    "\n",
    "# Let’s isolate the GDP column and store it in a variable named gdp.\n",
    "gdp = data['GDP']\n",
    "\n",
    "# Let’s split the data into two groups based on GDP. We now want to find the median GDP.\n",
    "median_gdp = np.quantile(gdp, 0.5)\n",
    "\n",
    "# Let’s now grab all of the rows from our original dataset\n",
    "# that have a GDP less than or equal to the median. \n",
    "low_gdp = data[data['GDP'] <= median_gdp]\n",
    "\n",
    "# Do the same for all of the rows that have a GDP higher than the median.\n",
    "high_gdp = data[data['GDP'] > median_gdp]\n",
    "\n",
    "# Now that we’ve split the data based on the GDP, \n",
    "# let’s see how the life expectancy of each group compares to each other.\n",
    "# Find the quartiles of the \"Life Expectancy\" column of low_gdp.\n",
    "low_gdp_quartiles = np.quantile(low_gdp['Life Expectancy'], [0.25, 0.5, 0.75])\n",
    "print('Low GDP Quartiles:', low_gdp_quartiles)\n",
    "\n",
    "# Find the quartiles of the high GDP countries \n",
    "high_gdp_quartiles = np.quantile(high_gdp['Life Expectancy'], [0.25, 0.5, 0.75])\n",
    "print('Hight GDP Quartiles:', high_gdp_quartiles)\n",
    "\n",
    "# By looking at the quantiles, you should get a sense of the spread \n",
    "# and central tendency of these two datasets. \n",
    "# But let’s plot a histogram of each dataset to really compare them.\n",
    "plt.hist(high_gdp[\"Life Expectancy\"], alpha = 0.5, label = \"High GDP\")\n",
    "plt.hist(low_gdp[\"Life Expectancy\"], alpha = 0.5, label = \"Low GDP\")\n",
    "plt.legend()\n",
    "plt.show()"
   ]
  }
 ],
 "metadata": {
  "kernelspec": {
   "display_name": "Python 3",
   "language": "python",
   "name": "python3"
  },
  "language_info": {
   "codemirror_mode": {
    "name": "ipython",
    "version": 3
   },
   "file_extension": ".py",
   "mimetype": "text/x-python",
   "name": "python",
   "nbconvert_exporter": "python",
   "pygments_lexer": "ipython3",
   "version": "3.7.3"
  }
 },
 "nbformat": 4,
 "nbformat_minor": 2
}
