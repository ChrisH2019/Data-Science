{
 "cells": [
  {
   "cell_type": "markdown",
   "metadata": {},
   "source": [
    "# Handwriting Recognition using K-Means\n",
    "\n",
    "In this project, you will be using K-means clustering (the algorithm behind this magic) and scikit-learn to cluster images of handwritten digits."
   ]
  },
  {
   "cell_type": "code",
   "execution_count": 18,
   "metadata": {},
   "outputs": [],
   "source": [
    "import numpy as np\n",
    "from matplotlib import pyplot as plt\n",
    "from sklearn.cluster import KMeans"
   ]
  },
  {
   "cell_type": "markdown",
   "metadata": {},
   "source": [
    "## 1. Getting Started with the Digits Dataset"
   ]
  },
  {
   "cell_type": "code",
   "execution_count": 2,
   "metadata": {},
   "outputs": [],
   "source": [
    "# Import datasets from sklearn\n",
    "from sklearn import datasets\n",
    "\n",
    "# Load the digits data\n",
    "digits = datasets.load_digits()"
   ]
  },
  {
   "cell_type": "code",
   "execution_count": 9,
   "metadata": {},
   "outputs": [
    {
     "name": "stdout",
     "output_type": "stream",
     "text": [
      ".. _digits_dataset:\n",
      "\n",
      "Optical recognition of handwritten digits dataset\n",
      "--------------------------------------------------\n",
      "\n",
      "**Data Set Characteristics:**\n",
      "\n",
      "    :Number of Instances: 5620\n",
      "    :Number of Attributes: 64\n",
      "    :Attribute Information: 8x8 image of integer pixels in the range 0..16.\n",
      "    :Missing Attribute Values: None\n",
      "    :Creator: E. Alpaydin (alpaydin '@' boun.edu.tr)\n",
      "    :Date: July; 1998\n",
      "\n",
      "This is a copy of the test set of the UCI ML hand-written digits datasets\n",
      "http://archive.ics.uci.edu/ml/datasets/Optical+Recognition+of+Handwritten+Digits\n",
      "\n",
      "The data set contains images of hand-written digits: 10 classes where\n",
      "each class refers to a digit.\n",
      "\n",
      "Preprocessing programs made available by NIST were used to extract\n",
      "normalized bitmaps of handwritten digits from a preprinted form. From a\n",
      "total of 43 people, 30 contributed to the training set and different 13\n",
      "to the test set. 32x32 bitmaps are divided into nonoverlapping blocks of\n",
      "4x4 and the number of on pixels are counted in each block. This generates\n",
      "an input matrix of 8x8 where each element is an integer in the range\n",
      "0..16. This reduces dimensionality and gives invariance to small\n",
      "distortions.\n",
      "\n",
      "For info on NIST preprocessing routines, see M. D. Garris, J. L. Blue, G.\n",
      "T. Candela, D. L. Dimmick, J. Geist, P. J. Grother, S. A. Janet, and C.\n",
      "L. Wilson, NIST Form-Based Handprint Recognition System, NISTIR 5469,\n",
      "1994.\n",
      "\n",
      ".. topic:: References\n",
      "\n",
      "  - C. Kaynak (1995) Methods of Combining Multiple Classifiers and Their\n",
      "    Applications to Handwritten Digit Recognition, MSc Thesis, Institute of\n",
      "    Graduate Studies in Science and Engineering, Bogazici University.\n",
      "  - E. Alpaydin, C. Kaynak (1998) Cascading Classifiers, Kybernetika.\n",
      "  - Ken Tang and Ponnuthurai N. Suganthan and Xi Yao and A. Kai Qin.\n",
      "    Linear dimensionalityreduction using relevance weighted LDA. School of\n",
      "    Electrical and Electronic Engineering Nanyang Technological University.\n",
      "    2005.\n",
      "  - Claudio Gentile. A New Approximate Maximal Margin Classification\n",
      "    Algorithm. NIPS. 2000.\n"
     ]
    }
   ],
   "source": [
    "# Go through data description\n",
    "print(digits.DESCR)"
   ]
  },
  {
   "cell_type": "code",
   "execution_count": 10,
   "metadata": {},
   "outputs": [
    {
     "name": "stdout",
     "output_type": "stream",
     "text": [
      "[[ 0.  0.  5. ...  0.  0.  0.]\n",
      " [ 0.  0.  0. ... 10.  0.  0.]\n",
      " [ 0.  0.  0. ... 16.  9.  0.]\n",
      " ...\n",
      " [ 0.  0.  1. ...  6.  0.  0.]\n",
      " [ 0.  0.  2. ... 12.  0.  0.]\n",
      " [ 0.  0. 10. ... 12.  1.  0.]]\n"
     ]
    }
   ],
   "source": [
    "# Inspect the data\n",
    "print(digits.data)"
   ]
  },
  {
   "cell_type": "code",
   "execution_count": 11,
   "metadata": {},
   "outputs": [
    {
     "name": "stdout",
     "output_type": "stream",
     "text": [
      "[0 1 2 ... 8 9 8]\n"
     ]
    }
   ],
   "source": [
    "# Inspect the target values\n",
    "print(digits.target)"
   ]
  },
  {
   "cell_type": "code",
   "execution_count": 15,
   "metadata": {
    "scrolled": true
   },
   "outputs": [
    {
     "data": {
      "text/plain": [
       "<Figure size 432x288 with 0 Axes>"
      ]
     },
     "metadata": {},
     "output_type": "display_data"
    },
    {
     "data": {
      "image/png": "[encoded data removed]",
      "text/plain": [
       "<Figure size 288x288 with 1 Axes>"
      ]
     },
     "metadata": {
      "needs_background": "light"
     },
     "output_type": "display_data"
    }
   ],
   "source": [
    "# Visualize the image at index 100\n",
    "plt.gray()\n",
    "plt.matshow(digits.images[100])\n",
    "plt.show()"
   ]
  },
  {
   "cell_type": "code",
   "execution_count": 16,
   "metadata": {},
   "outputs": [
    {
     "name": "stdout",
     "output_type": "stream",
     "text": [
      "4\n"
     ]
    }
   ],
   "source": [
    "# Find out the target label at at index 100\n",
    "print(digits.target[100])"
   ]
  },
  {
   "cell_type": "markdown",
   "metadata": {},
   "source": [
    "## 2. K-Means Clustering:"
   ]
  },
  {
   "cell_type": "code",
   "execution_count": 28,
   "metadata": {},
   "outputs": [
    {
     "data": {
      "text/plain": [
       "KMeans(algorithm='auto', copy_x=True, init='k-means++', max_iter=300,\n",
       "    n_clusters=10, n_init=10, n_jobs=None, precompute_distances='auto',\n",
       "    random_state=1314, tol=0.0001, verbose=0)"
      ]
     },
     "execution_count": 28,
     "metadata": {},
     "output_type": "execute_result"
    }
   ],
   "source": [
    "# k = 10 because there are 10 classes from (1, .., 10)\n",
    "k = 10\n",
    "\n",
    "# Build the model that find k clusters\n",
    "# The random_state will ensure that the model is built in the same way every run\n",
    "model = KMeans(n_clusters=k, random_state=1314)\n",
    "\n",
    "# Fit the digits.data to the model\n",
    "model.fit(digits.data)"
   ]
  },
  {
   "cell_type": "code",
   "execution_count": 29,
   "metadata": {},
   "outputs": [
    {
     "data": {
      "image/png": "[encoded data removed]",
      "text/plain": [
       "<Figure size 432x288 with 1 Axes>"
      ]
     },
     "metadata": {
      "needs_background": "light"
     },
     "output_type": "display_data"
    }
   ],
   "source": [
    "# Confirm the optimal number of clusters useing the \"Elbow\" method\n",
    "num_clusters = list(range(1, 11))\n",
    "inertias = []\n",
    "\n",
    "for i in num_clusters:\n",
    "  model = KMeans(n_clusters=i)\n",
    "  model.fit(digits.data)\n",
    "  inertias.append(model.inertia_)\n",
    "  \n",
    "plt.plot(num_clusters, inertias, '-o')\n",
    "plt.xlabel(\"Number of Clusters (k)\")\n",
    "plt.ylabel(\"Inertia\")\n",
    "\n",
    "plt.show()"
   ]
  },
  {
   "cell_type": "markdown",
   "metadata": {},
   "source": [
    "## 3. Visualizing after K-Means:"
   ]
  },
  {
   "cell_type": "code",
   "execution_count": 31,
   "metadata": {},
   "outputs": [
    {
     "data": {
      "image/png": "[encoded data removed]",
      "text/plain": [
       "<Figure size 576x216 with 10 Axes>"
      ]
     },
     "metadata": {
      "needs_background": "light"
     },
     "output_type": "display_data"
    }
   ],
   "source": [
    "# Visualize all the centroids\n",
    "fig = plt.figure(figsize=(8, 3))\n",
    "fig.suptitle('Cluster Center Images', fontsize=14, fontweight='bold')\n",
    "\n",
    "for i in range(10):\n",
    "    # Initialize subplots in a grid of 2X5, at i+1th position\n",
    "    ax = fig.add_subplot(2, 5, 1 + i)\n",
    "\n",
    "    # Display images\n",
    "    ax.imshow(model.cluster_centers_[i].reshape((8, 8)), cmap=plt.cm.binary)\n",
    "    \n",
    "plt.show()"
   ]
  },
  {
   "cell_type": "markdown",
   "metadata": {},
   "source": [
    "- Index 0 looks like 9\n",
    "- Index 1 looks like 6\n",
    "- Index 2 looks like 7\n",
    "- Index 3 looks like 2\n",
    "- Index 4 looks like 8\n",
    "- Index 5 looks like 5\n",
    "- Index 6 looks like 1\n",
    "- Index 7 looks like 0\n",
    "- Index 8 looks like 4\n",
    "- Index 9 looks like 3"
   ]
  },
  {
   "cell_type": "markdown",
   "metadata": {},
   "source": [
    "## 4. Testing the Model:"
   ]
  },
  {
   "cell_type": "code",
   "execution_count": 53,
   "metadata": {},
   "outputs": [
    {
     "name": "stdout",
     "output_type": "stream",
     "text": [
      "[5 2 2 8]\n",
      "5774"
     ]
    }
   ],
   "source": [
    "# 1234\n",
    "new_samples_1234 = np.array([\n",
    "[0.00,0.00,0.00,0.00,0.00,0.00,0.00,0.00,0.00,0.00,0.91,6.47,4.33,0.00,0.00,0.00,0.00,3.17,7.04,6.84,3.58,0.00,0.00,0.00,0.00,2.89,1.81,4.57,3.05,0.00,0.00,0.00,0.00,0.00,0.00,3.73,4.19,0.00,0.00,0.00,0.00,0.00,0.00,3.04,4.56,0.00,0.00,0.00,0.00,0.00,0.00,3.04,4.56,0.00,0.00,0.00,0.00,0.00,0.00,1.90,3.43,0.00,0.00,0.00],\n",
    "[0.00,0.08,2.20,4.26,4.18,0.00,0.00,0.00,0.00,4.49,6.08,3.66,6.75,1.90,0.00,0.00,0.00,0.30,0.07,0.00,3.95,3.81,0.00,0.00,0.00,0.00,0.00,0.00,4.27,3.73,0.00,0.00,0.00,0.00,0.00,0.48,6.93,1.37,0.00,0.00,0.00,0.00,0.45,5.52,5.68,1.52,0.83,0.00,0.00,0.00,2.35,6.09,6.09,6.09,4.03,0.00,0.00,0.00,0.00,0.00,0.00,0.00,0.00,0.00],\n",
    "[0.00,1.82,2.28,2.20,0.52,0.00,0.00,0.00,0.00,5.10,5.33,5.93,6.91,1.44,0.00,0.00,0.00,0.00,0.00,0.00,4.87,3.81,0.00,0.00,0.00,0.00,0.97,4.72,6.70,1.29,0.00,0.00,0.00,0.00,4.78,7.06,6.53,1.06,0.00,0.00,0.00,0.00,0.00,0.08,4.77,3.65,0.00,0.00,0.00,0.00,1.44,4.34,7.13,2.20,0.00,0.00,0.00,3.50,7.13,4.03,0.98,0.00,0.00,0.00],\n",
    "[0.00,0.00,0.23,1.36,0.00,0.00,0.00,0.00,0.00,0.00,3.43,4.80,0.08,0.30,0.00,0.00,0.00,0.00,6.65,1.88,2.74,4.49,0.00,0.00,0.00,0.96,6.93,0.00,3.20,4.55,0.00,0.00,0.00,1.52,6.09,0.00,3.81,3.81,0.00,0.00,0.00,0.90,7.33,5.71,6.48,6.47,5.93,3.42,0.00,0.00,0.76,2.13,4.95,4.95,1.97,0.68,0.00,0.00,0.00,0.00,2.51,2.82,0.00,0.00]\n",
    "])\n",
    "\n",
    "# Predict the new labels\n",
    "new_labels = model.predict(new_samples_1234)\n",
    "print(new_labels)\n",
    "\n",
    "for i in range(len(new_labels)):\n",
    "  if new_labels[i] == 0:\n",
    "    print(9, end='')\n",
    "  elif new_labels[i] == 1:\n",
    "    print(6, end='')\n",
    "  elif new_labels[i] == 2:\n",
    "    print(7, end='')\n",
    "  elif new_labels[i] == 3:\n",
    "    print(2, end='')\n",
    "  elif new_labels[i] == 4:\n",
    "    print(8, end='')\n",
    "  elif new_labels[i] == 5:\n",
    "    print(5, end='')\n",
    "  elif new_labels[i] == 6:\n",
    "    print(1, end='')\n",
    "  elif new_labels[i] == 7:\n",
    "    print(0, end='')\n",
    "  elif new_labels[i] == 8:\n",
    "    print(4, end='')\n",
    "  elif new_labels[i] == 9:\n",
    "    print(3, end='')"
   ]
  }
 ],
 "metadata": {
  "kernelspec": {
   "display_name": "Python 3",
   "language": "python",
   "name": "python3"
  },
  "language_info": {
   "codemirror_mode": {
    "name": "ipython",
    "version": 3
   },
   "file_extension": ".py",
   "mimetype": "text/x-python",
   "name": "python",
   "nbconvert_exporter": "python",
   "pygments_lexer": "ipython3",
   "version": "3.7.3"
  }
 },
 "nbformat": 4,
 "nbformat_minor": 2
}
