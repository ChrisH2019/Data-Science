{
 "cells": [
  {
   "cell_type": "markdown",
   "metadata": {},
   "source": [
    "# Page Visits Funnel"
   ]
  },
  {
   "cell_type": "markdown",
   "metadata": {},
   "source": [
    "Cool T-Shirts Inc. has asked you to analyze data on visits to their website. Your job is to build a funnel, which is a description of how many people continue to the next step of a multi-step process."
   ]
  },
  {
   "cell_type": "markdown",
   "metadata": {},
   "source": [
    "In this case, our funnel is going to describe the following process:\n",
    "1. A user visits CoolTShirts.com\n",
    "2. A user adds a t-shirt to their cart\n",
    "3. A user clicks “checkout”\n",
    "4. A user actually purchases a t-shirt"
   ]
  },
  {
   "cell_type": "markdown",
   "metadata": {},
   "source": [
    "## Funnel for Cool T-Shirts Inc."
   ]
  },
  {
   "cell_type": "code",
   "execution_count": 48,
   "metadata": {},
   "outputs": [],
   "source": [
    "import pandas as pd"
   ]
  },
  {
   "cell_type": "code",
   "execution_count": 49,
   "metadata": {
    "scrolled": true
   },
   "outputs": [
    {
     "data": {
      "text/html": [
       "<div>\n",
       "<style scoped>\n",
       "    .dataframe tbody tr th:only-of-type {\n",
       "        vertical-align: middle;\n",
       "    }\n",
       "\n",
       "    .dataframe tbody tr th {\n",
       "        vertical-align: top;\n",
       "    }\n",
       "\n",
       "    .dataframe thead th {\n",
       "        text-align: right;\n",
       "    }\n",
       "</style>\n",
       "<table border=\"1\" class=\"dataframe\">\n",
       "  <thead>\n",
       "    <tr style=\"text-align: right;\">\n",
       "      <th></th>\n",
       "      <th>user_id</th>\n",
       "      <th>visit_time</th>\n",
       "    </tr>\n",
       "  </thead>\n",
       "  <tbody>\n",
       "    <tr>\n",
       "      <th>0</th>\n",
       "      <td>943647ef-3682-4750-a2e1-918ba6f16188</td>\n",
       "      <td>2017-04-07 15:14:00</td>\n",
       "    </tr>\n",
       "    <tr>\n",
       "      <th>1</th>\n",
       "      <td>0c3a3dd0-fb64-4eac-bf84-ba069ce409f2</td>\n",
       "      <td>2017-01-26 14:24:00</td>\n",
       "    </tr>\n",
       "    <tr>\n",
       "      <th>2</th>\n",
       "      <td>6e0b2d60-4027-4d9a-babd-0e7d40859fb1</td>\n",
       "      <td>2017-08-20 08:23:00</td>\n",
       "    </tr>\n",
       "    <tr>\n",
       "      <th>3</th>\n",
       "      <td>6879527e-c5a6-4d14-b2da-50b85212b0ab</td>\n",
       "      <td>2017-11-04 18:15:00</td>\n",
       "    </tr>\n",
       "    <tr>\n",
       "      <th>4</th>\n",
       "      <td>a84327ff-5daa-4ba1-b789-d5b4caf81e96</td>\n",
       "      <td>2017-02-27 11:25:00</td>\n",
       "    </tr>\n",
       "  </tbody>\n",
       "</table>\n",
       "</div>"
      ],
      "text/plain": [
       "                                user_id          visit_time\n",
       "0  943647ef-3682-4750-a2e1-918ba6f16188 2017-04-07 15:14:00\n",
       "1  0c3a3dd0-fb64-4eac-bf84-ba069ce409f2 2017-01-26 14:24:00\n",
       "2  6e0b2d60-4027-4d9a-babd-0e7d40859fb1 2017-08-20 08:23:00\n",
       "3  6879527e-c5a6-4d14-b2da-50b85212b0ab 2017-11-04 18:15:00\n",
       "4  a84327ff-5daa-4ba1-b789-d5b4caf81e96 2017-02-27 11:25:00"
      ]
     },
     "execution_count": 49,
     "metadata": {},
     "output_type": "execute_result"
    }
   ],
   "source": [
    "# lists all of the users who have visited the website\n",
    "visits = pd.read_csv('visits.csv', parse_dates=[1])\n",
    "visits.head()"
   ]
  },
  {
   "cell_type": "code",
   "execution_count": 50,
   "metadata": {},
   "outputs": [
    {
     "data": {
      "text/html": [
       "<div>\n",
       "<style scoped>\n",
       "    .dataframe tbody tr th:only-of-type {\n",
       "        vertical-align: middle;\n",
       "    }\n",
       "\n",
       "    .dataframe tbody tr th {\n",
       "        vertical-align: top;\n",
       "    }\n",
       "\n",
       "    .dataframe thead th {\n",
       "        text-align: right;\n",
       "    }\n",
       "</style>\n",
       "<table border=\"1\" class=\"dataframe\">\n",
       "  <thead>\n",
       "    <tr style=\"text-align: right;\">\n",
       "      <th></th>\n",
       "      <th>user_id</th>\n",
       "      <th>cart_time</th>\n",
       "    </tr>\n",
       "  </thead>\n",
       "  <tbody>\n",
       "    <tr>\n",
       "      <th>0</th>\n",
       "      <td>2be90e7c-9cca-44e0-bcc5-124b945ff168</td>\n",
       "      <td>2017-11-07 20:45:00</td>\n",
       "    </tr>\n",
       "    <tr>\n",
       "      <th>1</th>\n",
       "      <td>4397f73f-1da3-4ab3-91af-762792e25973</td>\n",
       "      <td>2017-05-27 01:35:00</td>\n",
       "    </tr>\n",
       "    <tr>\n",
       "      <th>2</th>\n",
       "      <td>a9db3d4b-0a0a-4398-a55a-ebb2c7adf663</td>\n",
       "      <td>2017-03-04 10:38:00</td>\n",
       "    </tr>\n",
       "    <tr>\n",
       "      <th>3</th>\n",
       "      <td>b594862a-36c5-47d5-b818-6e9512b939b3</td>\n",
       "      <td>2017-09-27 08:22:00</td>\n",
       "    </tr>\n",
       "    <tr>\n",
       "      <th>4</th>\n",
       "      <td>a68a16e2-94f0-4ce8-8ce3-784af0bbb974</td>\n",
       "      <td>2017-07-26 15:48:00</td>\n",
       "    </tr>\n",
       "  </tbody>\n",
       "</table>\n",
       "</div>"
      ],
      "text/plain": [
       "                                user_id           cart_time\n",
       "0  2be90e7c-9cca-44e0-bcc5-124b945ff168 2017-11-07 20:45:00\n",
       "1  4397f73f-1da3-4ab3-91af-762792e25973 2017-05-27 01:35:00\n",
       "2  a9db3d4b-0a0a-4398-a55a-ebb2c7adf663 2017-03-04 10:38:00\n",
       "3  b594862a-36c5-47d5-b818-6e9512b939b3 2017-09-27 08:22:00\n",
       "4  a68a16e2-94f0-4ce8-8ce3-784af0bbb974 2017-07-26 15:48:00"
      ]
     },
     "execution_count": 50,
     "metadata": {},
     "output_type": "execute_result"
    }
   ],
   "source": [
    "# lists all of the users who have added a t-shirt to their cart\n",
    "cart = pd.read_csv('cart.csv', parse_dates=[1])\n",
    "cart.head()"
   ]
  },
  {
   "cell_type": "code",
   "execution_count": 51,
   "metadata": {},
   "outputs": [
    {
     "data": {
      "text/html": [
       "<div>\n",
       "<style scoped>\n",
       "    .dataframe tbody tr th:only-of-type {\n",
       "        vertical-align: middle;\n",
       "    }\n",
       "\n",
       "    .dataframe tbody tr th {\n",
       "        vertical-align: top;\n",
       "    }\n",
       "\n",
       "    .dataframe thead th {\n",
       "        text-align: right;\n",
       "    }\n",
       "</style>\n",
       "<table border=\"1\" class=\"dataframe\">\n",
       "  <thead>\n",
       "    <tr style=\"text-align: right;\">\n",
       "      <th></th>\n",
       "      <th>user_id</th>\n",
       "      <th>checkout_time</th>\n",
       "    </tr>\n",
       "  </thead>\n",
       "  <tbody>\n",
       "    <tr>\n",
       "      <th>0</th>\n",
       "      <td>d33bdc47-4afa-45bc-b4e4-dbe948e34c0d</td>\n",
       "      <td>2017-06-25 09:29:00</td>\n",
       "    </tr>\n",
       "    <tr>\n",
       "      <th>1</th>\n",
       "      <td>4ac186f0-9954-4fea-8a27-c081e428e34e</td>\n",
       "      <td>2017-04-07 20:11:00</td>\n",
       "    </tr>\n",
       "    <tr>\n",
       "      <th>2</th>\n",
       "      <td>3c9c78a7-124a-4b77-8d2e-e1926e011e7d</td>\n",
       "      <td>2017-07-13 11:38:00</td>\n",
       "    </tr>\n",
       "    <tr>\n",
       "      <th>3</th>\n",
       "      <td>89fe330a-8966-4756-8f7c-3bdbcd47279a</td>\n",
       "      <td>2017-04-20 16:15:00</td>\n",
       "    </tr>\n",
       "    <tr>\n",
       "      <th>4</th>\n",
       "      <td>3ccdaf69-2d30-40de-b083-51372881aedd</td>\n",
       "      <td>2017-01-08 20:52:00</td>\n",
       "    </tr>\n",
       "  </tbody>\n",
       "</table>\n",
       "</div>"
      ],
      "text/plain": [
       "                                user_id       checkout_time\n",
       "0  d33bdc47-4afa-45bc-b4e4-dbe948e34c0d 2017-06-25 09:29:00\n",
       "1  4ac186f0-9954-4fea-8a27-c081e428e34e 2017-04-07 20:11:00\n",
       "2  3c9c78a7-124a-4b77-8d2e-e1926e011e7d 2017-07-13 11:38:00\n",
       "3  89fe330a-8966-4756-8f7c-3bdbcd47279a 2017-04-20 16:15:00\n",
       "4  3ccdaf69-2d30-40de-b083-51372881aedd 2017-01-08 20:52:00"
      ]
     },
     "execution_count": 51,
     "metadata": {},
     "output_type": "execute_result"
    }
   ],
   "source": [
    "# lists all of the users who have started the checkout\n",
    "checkout = pd.read_csv('checkout.csv', parse_dates=[1])\n",
    "checkout.head()"
   ]
  },
  {
   "cell_type": "code",
   "execution_count": 52,
   "metadata": {
    "scrolled": true
   },
   "outputs": [
    {
     "data": {
      "text/html": [
       "<div>\n",
       "<style scoped>\n",
       "    .dataframe tbody tr th:only-of-type {\n",
       "        vertical-align: middle;\n",
       "    }\n",
       "\n",
       "    .dataframe tbody tr th {\n",
       "        vertical-align: top;\n",
       "    }\n",
       "\n",
       "    .dataframe thead th {\n",
       "        text-align: right;\n",
       "    }\n",
       "</style>\n",
       "<table border=\"1\" class=\"dataframe\">\n",
       "  <thead>\n",
       "    <tr style=\"text-align: right;\">\n",
       "      <th></th>\n",
       "      <th>user_id</th>\n",
       "      <th>purchase_time</th>\n",
       "    </tr>\n",
       "  </thead>\n",
       "  <tbody>\n",
       "    <tr>\n",
       "      <th>0</th>\n",
       "      <td>4b44ace4-2721-47a0-b24b-15fbfa2abf85</td>\n",
       "      <td>2017-05-11 04:25:00</td>\n",
       "    </tr>\n",
       "    <tr>\n",
       "      <th>1</th>\n",
       "      <td>02e684ae-a448-408f-a9ff-dcb4a5c99aac</td>\n",
       "      <td>2017-09-05 08:45:00</td>\n",
       "    </tr>\n",
       "    <tr>\n",
       "      <th>2</th>\n",
       "      <td>4b4bc391-749e-4b90-ab8f-4f6e3c84d6dc</td>\n",
       "      <td>2017-11-20 20:49:00</td>\n",
       "    </tr>\n",
       "    <tr>\n",
       "      <th>3</th>\n",
       "      <td>a5dbb25f-3c36-4103-9030-9f7c6241cd8d</td>\n",
       "      <td>2017-01-22 15:18:00</td>\n",
       "    </tr>\n",
       "    <tr>\n",
       "      <th>4</th>\n",
       "      <td>46a3186d-7f5a-4ab9-87af-84d05bfd4867</td>\n",
       "      <td>2017-06-11 11:32:00</td>\n",
       "    </tr>\n",
       "  </tbody>\n",
       "</table>\n",
       "</div>"
      ],
      "text/plain": [
       "                                user_id       purchase_time\n",
       "0  4b44ace4-2721-47a0-b24b-15fbfa2abf85 2017-05-11 04:25:00\n",
       "1  02e684ae-a448-408f-a9ff-dcb4a5c99aac 2017-09-05 08:45:00\n",
       "2  4b4bc391-749e-4b90-ab8f-4f6e3c84d6dc 2017-11-20 20:49:00\n",
       "3  a5dbb25f-3c36-4103-9030-9f7c6241cd8d 2017-01-22 15:18:00\n",
       "4  46a3186d-7f5a-4ab9-87af-84d05bfd4867 2017-06-11 11:32:00"
      ]
     },
     "execution_count": 52,
     "metadata": {},
     "output_type": "execute_result"
    }
   ],
   "source": [
    "# lists all of the users who have purchased a t-shirt\n",
    "purchase = pd.read_csv('purchase.csv', parse_dates=[1])\n",
    "purchase.head()"
   ]
  },
  {
   "cell_type": "markdown",
   "metadata": {},
   "source": [
    "### Visits to Cart"
   ]
  },
  {
   "cell_type": "code",
   "execution_count": 53,
   "metadata": {},
   "outputs": [
    {
     "data": {
      "text/html": [
       "<div>\n",
       "<style scoped>\n",
       "    .dataframe tbody tr th:only-of-type {\n",
       "        vertical-align: middle;\n",
       "    }\n",
       "\n",
       "    .dataframe tbody tr th {\n",
       "        vertical-align: top;\n",
       "    }\n",
       "\n",
       "    .dataframe thead th {\n",
       "        text-align: right;\n",
       "    }\n",
       "</style>\n",
       "<table border=\"1\" class=\"dataframe\">\n",
       "  <thead>\n",
       "    <tr style=\"text-align: right;\">\n",
       "      <th></th>\n",
       "      <th>user_id</th>\n",
       "      <th>visit_time</th>\n",
       "      <th>cart_time</th>\n",
       "    </tr>\n",
       "  </thead>\n",
       "  <tbody>\n",
       "    <tr>\n",
       "      <th>0</th>\n",
       "      <td>943647ef-3682-4750-a2e1-918ba6f16188</td>\n",
       "      <td>2017-04-07 15:14:00</td>\n",
       "      <td>NaT</td>\n",
       "    </tr>\n",
       "    <tr>\n",
       "      <th>1</th>\n",
       "      <td>0c3a3dd0-fb64-4eac-bf84-ba069ce409f2</td>\n",
       "      <td>2017-01-26 14:24:00</td>\n",
       "      <td>2017-01-26 14:44:00</td>\n",
       "    </tr>\n",
       "    <tr>\n",
       "      <th>2</th>\n",
       "      <td>6e0b2d60-4027-4d9a-babd-0e7d40859fb1</td>\n",
       "      <td>2017-08-20 08:23:00</td>\n",
       "      <td>2017-08-20 08:31:00</td>\n",
       "    </tr>\n",
       "    <tr>\n",
       "      <th>3</th>\n",
       "      <td>6e0b2d60-4027-4d9a-babd-0e7d40859fb1</td>\n",
       "      <td>2017-08-20 08:23:00</td>\n",
       "      <td>2017-08-20 08:49:00</td>\n",
       "    </tr>\n",
       "    <tr>\n",
       "      <th>4</th>\n",
       "      <td>6879527e-c5a6-4d14-b2da-50b85212b0ab</td>\n",
       "      <td>2017-11-04 18:15:00</td>\n",
       "      <td>NaT</td>\n",
       "    </tr>\n",
       "  </tbody>\n",
       "</table>\n",
       "</div>"
      ],
      "text/plain": [
       "                                user_id          visit_time  \\\n",
       "0  943647ef-3682-4750-a2e1-918ba6f16188 2017-04-07 15:14:00   \n",
       "1  0c3a3dd0-fb64-4eac-bf84-ba069ce409f2 2017-01-26 14:24:00   \n",
       "2  6e0b2d60-4027-4d9a-babd-0e7d40859fb1 2017-08-20 08:23:00   \n",
       "3  6e0b2d60-4027-4d9a-babd-0e7d40859fb1 2017-08-20 08:23:00   \n",
       "4  6879527e-c5a6-4d14-b2da-50b85212b0ab 2017-11-04 18:15:00   \n",
       "\n",
       "            cart_time  \n",
       "0                 NaT  \n",
       "1 2017-01-26 14:44:00  \n",
       "2 2017-08-20 08:31:00  \n",
       "3 2017-08-20 08:49:00  \n",
       "4                 NaT  "
      ]
     },
     "execution_count": 53,
     "metadata": {},
     "output_type": "execute_result"
    }
   ],
   "source": [
    "# Combine visits and cart using a left merge.\n",
    "visits_cart = pd.merge(visits, cart, how='left')\n",
    "visits_cart.head()"
   ]
  },
  {
   "cell_type": "code",
   "execution_count": 54,
   "metadata": {},
   "outputs": [
    {
     "data": {
      "text/plain": [
       "2052"
      ]
     },
     "execution_count": 54,
     "metadata": {},
     "output_type": "execute_result"
    }
   ],
   "source": [
    "# How long is your merged DataFrame\n",
    "visits_cart_rows = len(visits_cart)\n",
    "visits_cart_rows"
   ]
  },
  {
   "cell_type": "code",
   "execution_count": 55,
   "metadata": {},
   "outputs": [
    {
     "data": {
      "text/plain": [
       "1652"
      ]
     },
     "execution_count": 55,
     "metadata": {},
     "output_type": "execute_result"
    }
   ],
   "source": [
    "#How many of the timestamps are null for the column cart_time\n",
    "null_cart_times = len(visits_cart[visits_cart.cart_time.isnull()])\n",
    "null_cart_times"
   ]
  },
  {
   "cell_type": "markdown",
   "metadata": {},
   "source": [
    "Note: To calculate percentages, it will be helpful to turn either the numerator or the denominator into a float, by using float(), with the number to convert passed in as input. Otherwise, Python will use integer division, which truncates decimal points."
   ]
  },
  {
   "cell_type": "code",
   "execution_count": 56,
   "metadata": {},
   "outputs": [
    {
     "data": {
      "text/plain": [
       "0.8050682261208577"
      ]
     },
     "execution_count": 56,
     "metadata": {},
     "output_type": "execute_result"
    }
   ],
   "source": [
    "# What percent of users who visited Cool T-Shirts Inc. \n",
    "# ended up not placing a t-shirt in their cart\n",
    "percent_null_cart_times = null_cart_times / float(visits_cart_rows)\n",
    "percent_null_cart_times"
   ]
  },
  {
   "cell_type": "markdown",
   "metadata": {},
   "source": [
    "### Cart to Checkout"
   ]
  },
  {
   "cell_type": "code",
   "execution_count": 57,
   "metadata": {},
   "outputs": [
    {
     "data": {
      "text/html": [
       "<div>\n",
       "<style scoped>\n",
       "    .dataframe tbody tr th:only-of-type {\n",
       "        vertical-align: middle;\n",
       "    }\n",
       "\n",
       "    .dataframe tbody tr th {\n",
       "        vertical-align: top;\n",
       "    }\n",
       "\n",
       "    .dataframe thead th {\n",
       "        text-align: right;\n",
       "    }\n",
       "</style>\n",
       "<table border=\"1\" class=\"dataframe\">\n",
       "  <thead>\n",
       "    <tr style=\"text-align: right;\">\n",
       "      <th></th>\n",
       "      <th>user_id</th>\n",
       "      <th>cart_time</th>\n",
       "      <th>checkout_time</th>\n",
       "    </tr>\n",
       "  </thead>\n",
       "  <tbody>\n",
       "    <tr>\n",
       "      <th>0</th>\n",
       "      <td>2be90e7c-9cca-44e0-bcc5-124b945ff168</td>\n",
       "      <td>2017-11-07 20:45:00</td>\n",
       "      <td>2017-11-07 21:14:00</td>\n",
       "    </tr>\n",
       "    <tr>\n",
       "      <th>1</th>\n",
       "      <td>2be90e7c-9cca-44e0-bcc5-124b945ff168</td>\n",
       "      <td>2017-11-07 20:45:00</td>\n",
       "      <td>2017-11-07 20:50:00</td>\n",
       "    </tr>\n",
       "    <tr>\n",
       "      <th>2</th>\n",
       "      <td>2be90e7c-9cca-44e0-bcc5-124b945ff168</td>\n",
       "      <td>2017-11-07 20:45:00</td>\n",
       "      <td>2017-11-07 21:11:00</td>\n",
       "    </tr>\n",
       "    <tr>\n",
       "      <th>3</th>\n",
       "      <td>4397f73f-1da3-4ab3-91af-762792e25973</td>\n",
       "      <td>2017-05-27 01:35:00</td>\n",
       "      <td>NaT</td>\n",
       "    </tr>\n",
       "    <tr>\n",
       "      <th>4</th>\n",
       "      <td>a9db3d4b-0a0a-4398-a55a-ebb2c7adf663</td>\n",
       "      <td>2017-03-04 10:38:00</td>\n",
       "      <td>2017-03-04 11:04:00</td>\n",
       "    </tr>\n",
       "  </tbody>\n",
       "</table>\n",
       "</div>"
      ],
      "text/plain": [
       "                                user_id           cart_time  \\\n",
       "0  2be90e7c-9cca-44e0-bcc5-124b945ff168 2017-11-07 20:45:00   \n",
       "1  2be90e7c-9cca-44e0-bcc5-124b945ff168 2017-11-07 20:45:00   \n",
       "2  2be90e7c-9cca-44e0-bcc5-124b945ff168 2017-11-07 20:45:00   \n",
       "3  4397f73f-1da3-4ab3-91af-762792e25973 2017-05-27 01:35:00   \n",
       "4  a9db3d4b-0a0a-4398-a55a-ebb2c7adf663 2017-03-04 10:38:00   \n",
       "\n",
       "        checkout_time  \n",
       "0 2017-11-07 21:14:00  \n",
       "1 2017-11-07 20:50:00  \n",
       "2 2017-11-07 21:11:00  \n",
       "3                 NaT  \n",
       "4 2017-03-04 11:04:00  "
      ]
     },
     "execution_count": 57,
     "metadata": {},
     "output_type": "execute_result"
    }
   ],
   "source": [
    "cart_checkout = pd.merge(cart, checkout, how='left')\n",
    "cart_checkout.head()"
   ]
  },
  {
   "cell_type": "code",
   "execution_count": 58,
   "metadata": {},
   "outputs": [
    {
     "data": {
      "text/plain": [
       "0.20930232558139536"
      ]
     },
     "execution_count": 58,
     "metadata": {},
     "output_type": "execute_result"
    }
   ],
   "source": [
    "# What percentage of users put items in their cart, but did not proceed to checkout?\n",
    "percent_null_checkout_times =\\\n",
    "    len(cart_checkout[cart_checkout.checkout_time.isnull()]) / float(len(cart_checkout))\n",
    "percent_null_checkout_times"
   ]
  },
  {
   "cell_type": "markdown",
   "metadata": {},
   "source": [
    "### Checkout to Purchase"
   ]
  },
  {
   "cell_type": "code",
   "execution_count": 59,
   "metadata": {},
   "outputs": [
    {
     "data": {
      "text/html": [
       "<div>\n",
       "<style scoped>\n",
       "    .dataframe tbody tr th:only-of-type {\n",
       "        vertical-align: middle;\n",
       "    }\n",
       "\n",
       "    .dataframe tbody tr th {\n",
       "        vertical-align: top;\n",
       "    }\n",
       "\n",
       "    .dataframe thead th {\n",
       "        text-align: right;\n",
       "    }\n",
       "</style>\n",
       "<table border=\"1\" class=\"dataframe\">\n",
       "  <thead>\n",
       "    <tr style=\"text-align: right;\">\n",
       "      <th></th>\n",
       "      <th>user_id</th>\n",
       "      <th>checkout_time</th>\n",
       "      <th>purchase_time</th>\n",
       "    </tr>\n",
       "  </thead>\n",
       "  <tbody>\n",
       "    <tr>\n",
       "      <th>0</th>\n",
       "      <td>d33bdc47-4afa-45bc-b4e4-dbe948e34c0d</td>\n",
       "      <td>2017-06-25 09:29:00</td>\n",
       "      <td>2017-06-25 09:49:00</td>\n",
       "    </tr>\n",
       "    <tr>\n",
       "      <th>1</th>\n",
       "      <td>d33bdc47-4afa-45bc-b4e4-dbe948e34c0d</td>\n",
       "      <td>2017-06-25 09:29:00</td>\n",
       "      <td>2017-06-25 09:56:00</td>\n",
       "    </tr>\n",
       "    <tr>\n",
       "      <th>2</th>\n",
       "      <td>d33bdc47-4afa-45bc-b4e4-dbe948e34c0d</td>\n",
       "      <td>2017-06-25 09:29:00</td>\n",
       "      <td>2017-06-25 09:57:00</td>\n",
       "    </tr>\n",
       "    <tr>\n",
       "      <th>3</th>\n",
       "      <td>4ac186f0-9954-4fea-8a27-c081e428e34e</td>\n",
       "      <td>2017-04-07 20:11:00</td>\n",
       "      <td>NaT</td>\n",
       "    </tr>\n",
       "    <tr>\n",
       "      <th>4</th>\n",
       "      <td>3c9c78a7-124a-4b77-8d2e-e1926e011e7d</td>\n",
       "      <td>2017-07-13 11:38:00</td>\n",
       "      <td>NaT</td>\n",
       "    </tr>\n",
       "  </tbody>\n",
       "</table>\n",
       "</div>"
      ],
      "text/plain": [
       "                                user_id       checkout_time  \\\n",
       "0  d33bdc47-4afa-45bc-b4e4-dbe948e34c0d 2017-06-25 09:29:00   \n",
       "1  d33bdc47-4afa-45bc-b4e4-dbe948e34c0d 2017-06-25 09:29:00   \n",
       "2  d33bdc47-4afa-45bc-b4e4-dbe948e34c0d 2017-06-25 09:29:00   \n",
       "3  4ac186f0-9954-4fea-8a27-c081e428e34e 2017-04-07 20:11:00   \n",
       "4  3c9c78a7-124a-4b77-8d2e-e1926e011e7d 2017-07-13 11:38:00   \n",
       "\n",
       "        purchase_time  \n",
       "0 2017-06-25 09:49:00  \n",
       "1 2017-06-25 09:56:00  \n",
       "2 2017-06-25 09:57:00  \n",
       "3                 NaT  \n",
       "4                 NaT  "
      ]
     },
     "execution_count": 59,
     "metadata": {},
     "output_type": "execute_result"
    }
   ],
   "source": [
    "checkout_purchase = pd.merge(checkout, purchase, how='left')\n",
    "checkout_purchase.head()"
   ]
  },
  {
   "cell_type": "code",
   "execution_count": 60,
   "metadata": {},
   "outputs": [
    {
     "data": {
      "text/plain": [
       "0.1688963210702341"
      ]
     },
     "execution_count": 60,
     "metadata": {},
     "output_type": "execute_result"
    }
   ],
   "source": [
    "# What percentage of users proceeded to checkout, but did not purchase a t-shirt\n",
    "percent_null_purchase_times =\\\n",
    "len(checkout_purchase[checkout_purchase.purchase_time.isnull()]) / float(len(checkout_purchase))\n",
    "percent_null_purchase_times"
   ]
  },
  {
   "cell_type": "code",
   "execution_count": 61,
   "metadata": {},
   "outputs": [
    {
     "data": {
      "text/html": [
       "<div>\n",
       "<style scoped>\n",
       "    .dataframe tbody tr th:only-of-type {\n",
       "        vertical-align: middle;\n",
       "    }\n",
       "\n",
       "    .dataframe tbody tr th {\n",
       "        vertical-align: top;\n",
       "    }\n",
       "\n",
       "    .dataframe thead th {\n",
       "        text-align: right;\n",
       "    }\n",
       "</style>\n",
       "<table border=\"1\" class=\"dataframe\">\n",
       "  <thead>\n",
       "    <tr style=\"text-align: right;\">\n",
       "      <th></th>\n",
       "      <th>user_id</th>\n",
       "      <th>visit_time</th>\n",
       "      <th>cart_time</th>\n",
       "      <th>checkout_time</th>\n",
       "      <th>purchase_time</th>\n",
       "    </tr>\n",
       "  </thead>\n",
       "  <tbody>\n",
       "    <tr>\n",
       "      <th>0</th>\n",
       "      <td>943647ef-3682-4750-a2e1-918ba6f16188</td>\n",
       "      <td>2017-04-07 15:14:00</td>\n",
       "      <td>NaT</td>\n",
       "      <td>NaT</td>\n",
       "      <td>NaT</td>\n",
       "    </tr>\n",
       "    <tr>\n",
       "      <th>1</th>\n",
       "      <td>0c3a3dd0-fb64-4eac-bf84-ba069ce409f2</td>\n",
       "      <td>2017-01-26 14:24:00</td>\n",
       "      <td>2017-01-26 14:44:00</td>\n",
       "      <td>2017-01-26 14:54:00</td>\n",
       "      <td>2017-01-26 15:08:00</td>\n",
       "    </tr>\n",
       "    <tr>\n",
       "      <th>2</th>\n",
       "      <td>6e0b2d60-4027-4d9a-babd-0e7d40859fb1</td>\n",
       "      <td>2017-08-20 08:23:00</td>\n",
       "      <td>2017-08-20 08:31:00</td>\n",
       "      <td>NaT</td>\n",
       "      <td>NaT</td>\n",
       "    </tr>\n",
       "    <tr>\n",
       "      <th>3</th>\n",
       "      <td>6e0b2d60-4027-4d9a-babd-0e7d40859fb1</td>\n",
       "      <td>2017-08-20 08:23:00</td>\n",
       "      <td>2017-08-20 08:49:00</td>\n",
       "      <td>NaT</td>\n",
       "      <td>NaT</td>\n",
       "    </tr>\n",
       "    <tr>\n",
       "      <th>4</th>\n",
       "      <td>6879527e-c5a6-4d14-b2da-50b85212b0ab</td>\n",
       "      <td>2017-11-04 18:15:00</td>\n",
       "      <td>NaT</td>\n",
       "      <td>NaT</td>\n",
       "      <td>NaT</td>\n",
       "    </tr>\n",
       "  </tbody>\n",
       "</table>\n",
       "</div>"
      ],
      "text/plain": [
       "                                user_id          visit_time  \\\n",
       "0  943647ef-3682-4750-a2e1-918ba6f16188 2017-04-07 15:14:00   \n",
       "1  0c3a3dd0-fb64-4eac-bf84-ba069ce409f2 2017-01-26 14:24:00   \n",
       "2  6e0b2d60-4027-4d9a-babd-0e7d40859fb1 2017-08-20 08:23:00   \n",
       "3  6e0b2d60-4027-4d9a-babd-0e7d40859fb1 2017-08-20 08:23:00   \n",
       "4  6879527e-c5a6-4d14-b2da-50b85212b0ab 2017-11-04 18:15:00   \n",
       "\n",
       "            cart_time       checkout_time       purchase_time  \n",
       "0                 NaT                 NaT                 NaT  \n",
       "1 2017-01-26 14:44:00 2017-01-26 14:54:00 2017-01-26 15:08:00  \n",
       "2 2017-08-20 08:31:00                 NaT                 NaT  \n",
       "3 2017-08-20 08:49:00                 NaT                 NaT  \n",
       "4                 NaT                 NaT                 NaT  "
      ]
     },
     "execution_count": 61,
     "metadata": {},
     "output_type": "execute_result"
    }
   ],
   "source": [
    "all_data = visits_cart.merge(cart_checkout, how='left').merge(checkout_purchase, how='left')\n",
    "all_data.head()"
   ]
  },
  {
   "cell_type": "markdown",
   "metadata": {},
   "source": [
    "### Summary"
   ]
  },
  {
   "cell_type": "markdown",
   "metadata": {},
   "source": [
    "The visit-cart step is the weakest because it has the higest percentage of users not completing it."
   ]
  },
  {
   "cell_type": "markdown",
   "metadata": {},
   "source": [
    "## Average Time to Purchase"
   ]
  },
  {
   "cell_type": "code",
   "execution_count": 65,
   "metadata": {},
   "outputs": [
    {
     "data": {
      "text/html": [
       "<div>\n",
       "<style scoped>\n",
       "    .dataframe tbody tr th:only-of-type {\n",
       "        vertical-align: middle;\n",
       "    }\n",
       "\n",
       "    .dataframe tbody tr th {\n",
       "        vertical-align: top;\n",
       "    }\n",
       "\n",
       "    .dataframe thead th {\n",
       "        text-align: right;\n",
       "    }\n",
       "</style>\n",
       "<table border=\"1\" class=\"dataframe\">\n",
       "  <thead>\n",
       "    <tr style=\"text-align: right;\">\n",
       "      <th></th>\n",
       "      <th>user_id</th>\n",
       "      <th>visit_time</th>\n",
       "      <th>cart_time</th>\n",
       "      <th>checkout_time</th>\n",
       "      <th>purchase_time</th>\n",
       "      <th>time_to_purchase</th>\n",
       "    </tr>\n",
       "  </thead>\n",
       "  <tbody>\n",
       "    <tr>\n",
       "      <th>0</th>\n",
       "      <td>943647ef-3682-4750-a2e1-918ba6f16188</td>\n",
       "      <td>2017-04-07 15:14:00</td>\n",
       "      <td>NaT</td>\n",
       "      <td>NaT</td>\n",
       "      <td>NaT</td>\n",
       "      <td>NaT</td>\n",
       "    </tr>\n",
       "    <tr>\n",
       "      <th>1</th>\n",
       "      <td>0c3a3dd0-fb64-4eac-bf84-ba069ce409f2</td>\n",
       "      <td>2017-01-26 14:24:00</td>\n",
       "      <td>2017-01-26 14:44:00</td>\n",
       "      <td>2017-01-26 14:54:00</td>\n",
       "      <td>2017-01-26 15:08:00</td>\n",
       "      <td>00:44:00</td>\n",
       "    </tr>\n",
       "    <tr>\n",
       "      <th>2</th>\n",
       "      <td>6e0b2d60-4027-4d9a-babd-0e7d40859fb1</td>\n",
       "      <td>2017-08-20 08:23:00</td>\n",
       "      <td>2017-08-20 08:31:00</td>\n",
       "      <td>NaT</td>\n",
       "      <td>NaT</td>\n",
       "      <td>NaT</td>\n",
       "    </tr>\n",
       "    <tr>\n",
       "      <th>3</th>\n",
       "      <td>6e0b2d60-4027-4d9a-babd-0e7d40859fb1</td>\n",
       "      <td>2017-08-20 08:23:00</td>\n",
       "      <td>2017-08-20 08:49:00</td>\n",
       "      <td>NaT</td>\n",
       "      <td>NaT</td>\n",
       "      <td>NaT</td>\n",
       "    </tr>\n",
       "    <tr>\n",
       "      <th>4</th>\n",
       "      <td>6879527e-c5a6-4d14-b2da-50b85212b0ab</td>\n",
       "      <td>2017-11-04 18:15:00</td>\n",
       "      <td>NaT</td>\n",
       "      <td>NaT</td>\n",
       "      <td>NaT</td>\n",
       "      <td>NaT</td>\n",
       "    </tr>\n",
       "  </tbody>\n",
       "</table>\n",
       "</div>"
      ],
      "text/plain": [
       "                                user_id          visit_time  \\\n",
       "0  943647ef-3682-4750-a2e1-918ba6f16188 2017-04-07 15:14:00   \n",
       "1  0c3a3dd0-fb64-4eac-bf84-ba069ce409f2 2017-01-26 14:24:00   \n",
       "2  6e0b2d60-4027-4d9a-babd-0e7d40859fb1 2017-08-20 08:23:00   \n",
       "3  6e0b2d60-4027-4d9a-babd-0e7d40859fb1 2017-08-20 08:23:00   \n",
       "4  6879527e-c5a6-4d14-b2da-50b85212b0ab 2017-11-04 18:15:00   \n",
       "\n",
       "            cart_time       checkout_time       purchase_time time_to_purchase  \n",
       "0                 NaT                 NaT                 NaT              NaT  \n",
       "1 2017-01-26 14:44:00 2017-01-26 14:54:00 2017-01-26 15:08:00         00:44:00  \n",
       "2 2017-08-20 08:31:00                 NaT                 NaT              NaT  \n",
       "3 2017-08-20 08:49:00                 NaT                 NaT              NaT  \n",
       "4                 NaT                 NaT                 NaT              NaT  "
      ]
     },
     "execution_count": 65,
     "metadata": {},
     "output_type": "execute_result"
    }
   ],
   "source": [
    "\"\"\"\n",
    "Using the giant merged DataFrame all_data that you created, \n",
    "let’s calculate the average time from initial visit to final purchase. \n",
    "Start by adding the following column to your DataFrame:\n",
    "\"\"\"\n",
    "all_data['time_to_purchase'] = all_data.purchase_time - all_data.visit_time\n",
    "all_data.head()"
   ]
  },
  {
   "cell_type": "code",
   "execution_count": 66,
   "metadata": {},
   "outputs": [
    {
     "data": {
      "text/plain": [
       "Timedelta('0 days 00:44:33.376963')"
      ]
     },
     "execution_count": 66,
     "metadata": {},
     "output_type": "execute_result"
    }
   ],
   "source": [
    "# Calculate the average time to purchase\n",
    "all_data.time_to_purchase.mean()"
   ]
  }
 ],
 "metadata": {
  "kernelspec": {
   "display_name": "Python 3",
   "language": "python",
   "name": "python3"
  },
  "language_info": {
   "codemirror_mode": {
    "name": "ipython",
    "version": 3
   },
   "file_extension": ".py",
   "mimetype": "text/x-python",
   "name": "python",
   "nbconvert_exporter": "python",
   "pygments_lexer": "ipython3",
   "version": "3.7.3"
  }
 },
 "nbformat": 4,
 "nbformat_minor": 2
}
