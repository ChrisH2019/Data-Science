{
 "cells": [
  {
   "cell_type": "markdown",
   "metadata": {},
   "source": [
    "# Create a Table"
   ]
  },
  {
   "cell_type": "markdown",
   "metadata": {},
   "source": [
    "In this project, you will create your own friends table and add/delete data from it!"
   ]
  },
  {
   "cell_type": "code",
   "execution_count": 34,
   "metadata": {},
   "outputs": [],
   "source": [
    "import sqlite3"
   ]
  },
  {
   "cell_type": "code",
   "execution_count": 35,
   "metadata": {},
   "outputs": [],
   "source": [
    "# Create a DB\n",
    "conn = sqlite3.connect('friends.sqlite') \n",
    "\n",
    "# Create a cursor\n",
    "cur = conn.cursor() "
   ]
  },
  {
   "cell_type": "code",
   "execution_count": 36,
   "metadata": {},
   "outputs": [
    {
     "data": {
      "text/plain": [
       "<sqlite3.Cursor at 0x281aaa5ec70>"
      ]
     },
     "execution_count": 36,
     "metadata": {},
     "output_type": "execute_result"
    }
   ],
   "source": [
    "# Create a table\n",
    "cur.execute('DROP TABLE IF EXISTS friends')\n",
    "cur.execute('''CREATE TABLE friends \n",
    "                (id INTEGER, name TEXT, birthday DATE)''')"
   ]
  },
  {
   "cell_type": "code",
   "execution_count": 37,
   "metadata": {
    "scrolled": true
   },
   "outputs": [],
   "source": [
    "# Insert a row of data\n",
    "cur.execute(\"INSERT INTO friends (id, name, birthday) VALUES (1, 'Jane Doe', '1990-05-30')\")\n",
    "conn.commit()"
   ]
  },
  {
   "cell_type": "code",
   "execution_count": 38,
   "metadata": {},
   "outputs": [
    {
     "name": "stdout",
     "output_type": "stream",
     "text": [
      "(1, 'Jane Doe', '1990-05-30')\n"
     ]
    }
   ],
   "source": [
    "# Let’s make sure that Jane has been added to the database\n",
    "cur.execute('SELECT * FROM friends')\n",
    "print(cur.fetchone())"
   ]
  },
  {
   "cell_type": "code",
   "execution_count": 39,
   "metadata": {},
   "outputs": [],
   "source": [
    "# Add two of your friends to the table.\n",
    "cur.execute(\"INSERT INTO friends (id, name, birthday) VALUES (2, 'David Smith', '1992-11-30')\")\n",
    "cur.execute(\"INSERT INTO friends (id, name, birthday) VALUES (3, 'Michelle Yee', '1993-10-30')\")\n",
    "conn.commit()"
   ]
  },
  {
   "cell_type": "code",
   "execution_count": 40,
   "metadata": {},
   "outputs": [
    {
     "name": "stdout",
     "output_type": "stream",
     "text": [
      "(1, 'Jane Doe', '1990-05-30')\n",
      "(2, 'David Smith', '1992-11-30')\n",
      "(3, 'Michelle Yee', '1993-10-30')\n"
     ]
    }
   ],
   "source": [
    "# Check the insertions\n",
    "for row in cur.execute('SELECT * FROM friends'):\n",
    "    print(row)"
   ]
  },
  {
   "cell_type": "code",
   "execution_count": 44,
   "metadata": {},
   "outputs": [],
   "source": [
    "# Jane Doe just got married! Her new last name is “Smith”. Update her record in friends.\n",
    "cur.execute(\"UPDATE friends SET name = 'Jane Doe Smith' WHERE id = 1\")\n",
    "conn.commit()"
   ]
  },
  {
   "cell_type": "code",
   "execution_count": 45,
   "metadata": {},
   "outputs": [
    {
     "data": {
      "text/plain": [
       "<sqlite3.Cursor at 0x281aaa5ec70>"
      ]
     },
     "execution_count": 45,
     "metadata": {},
     "output_type": "execute_result"
    }
   ],
   "source": [
    "# Add a new column named email\n",
    "cur.execute(\"ALTER TABLE friends ADD COLUMN email TEXT\")"
   ]
  },
  {
   "cell_type": "code",
   "execution_count": 47,
   "metadata": {},
   "outputs": [],
   "source": [
    "# Update the email address for everyone in your table\n",
    "cur.execute(\"UPDATE friends SET email = 'jane@codecademy.com' WHERE id = 1\")\n",
    "cur.execute(\"UPDATE friends SET email = 'david@codecademy.com' WHERE id = 2\")\n",
    "cur.execute(\"UPDATE friends SET email = 'michelle@codecademy.com' WHERE id = 3\")\n",
    "conn.commit()"
   ]
  },
  {
   "cell_type": "code",
   "execution_count": 48,
   "metadata": {},
   "outputs": [
    {
     "name": "stdout",
     "output_type": "stream",
     "text": [
      "(1, 'Jane Doe Smith', '1990-05-30', 'jane@codecademy.com')\n",
      "(2, 'David Smith', '1992-11-30', 'david@codecademy.com')\n",
      "(3, 'Michelle Yee', '1993-10-30', 'michelle@codecademy.com')\n"
     ]
    }
   ],
   "source": [
    "for row in cur.execute('SELECT * FROM friends'):\n",
    "    print(row)"
   ]
  },
  {
   "cell_type": "code",
   "execution_count": 50,
   "metadata": {},
   "outputs": [],
   "source": [
    "# Wait, Jane Smith is not a real person.Remove her from friends.\n",
    "cur.execute(\"DELETE FROM friends WHERE id = 1\")\n",
    "conn.commit()"
   ]
  },
  {
   "cell_type": "code",
   "execution_count": 51,
   "metadata": {},
   "outputs": [
    {
     "name": "stdout",
     "output_type": "stream",
     "text": [
      "(2, 'David Smith', '1992-11-30', 'david@codecademy.com')\n",
      "(3, 'Michelle Yee', '1993-10-30', 'michelle@codecademy.com')\n"
     ]
    }
   ],
   "source": [
    "for row in cur.execute('SELECT * FROM friends'):\n",
    "    print(row)"
   ]
  }
 ],
 "metadata": {
  "kernelspec": {
   "display_name": "Python 3",
   "language": "python",
   "name": "python3"
  },
  "language_info": {
   "codemirror_mode": {
    "name": "ipython",
    "version": 3
   },
   "file_extension": ".py",
   "mimetype": "text/x-python",
   "name": "python",
   "nbconvert_exporter": "python",
   "pygments_lexer": "ipython3",
   "version": "3.7.3"
  }
 },
 "nbformat": 4,
 "nbformat_minor": 2
}
