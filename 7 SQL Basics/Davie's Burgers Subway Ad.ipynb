{
 "cells": [
  {
   "cell_type": "markdown",
   "metadata": {},
   "source": [
    "# Davie's Burgers Subway Ad"
   ]
  },
  {
   "cell_type": "markdown",
   "metadata": {},
   "source": [
    "<img src=\"https://s3.amazonaws.com/codecademy-content/courses/sql-intensive/daviesburgers.png\">"
   ]
  },
  {
   "cell_type": "markdown",
   "metadata": {},
   "source": [
    "Well, the restaurant business has been booming and it is now looking to place a catchy advertisement in the local subway station.\n",
    "\n",
    "Help them dig into their orders table to see if there is anything interesting in there for a funny tagline!"
   ]
  },
  {
   "cell_type": "code",
   "execution_count": null,
   "metadata": {},
   "outputs": [],
   "source": [
    "# Start by getting a feel for the orders table\n",
    "SELECT *\n",
    "FROM orders\n",
    "LIMIT 20;\n",
    "\n",
    "# How recent is this data\n",
    "SELECT DISTINCT order_date\n",
    "FROM orders;\n",
    "ORDER BY order_date DESC;\n",
    "\n",
    "'''\n",
    "The special_instructions column stores the data where Davie’s Burgers customers\n",
    "leave a note for the kitchen or the delivery.\n",
    "Instead of selecting all the columns using *, \n",
    "write a query that selects only the special_instructions column.\n",
    "Limit the result to 20 rows.\n",
    "'''\n",
    "SELECT special_instructions\n",
    "FROM orders\n",
    "LIMIT 20;\n",
    "\n",
    "'''\n",
    "There seem to be a lot of empty values in that column. \n",
    "That is because customers sometimes leave the notes section blank.\n",
    "Can you edit the query so that we are only returning the special instructions \n",
    "that are not empty?\n",
    "'''\n",
    "SELECT special_instructions\n",
    "FROM orders\n",
    "WHERE special_instructions IS NOT NULL;\n",
    "\n",
    "# Let’s go even further and sort the instructions in alphabetical order (A-Z)\n",
    "SELECT special_instructions\n",
    "FROM orders\n",
    "WHERE special_instructions IS NOT NULL\n",
    "ORDER BY special_instructions;\n",
    "\n",
    "# Let’s search for special instructions that have the word ‘sauce’.\n",
    "SELECT special_instructions\n",
    "FROM orders\n",
    "WHERE special_instructions LIKE '%sauce%';\n",
    "\n",
    "# Let’s search for special instructions that have the word ‘door’.\n",
    "SELECT special_instructions\n",
    "FROM orders\n",
    "WHERE special_instructions LIKE '%door%';\n",
    "\n",
    "# Let’s search for special instructions that have the word ‘box’.\n",
    "SELECT special_instructions\n",
    "FROM orders\n",
    "WHERE special_instructions LIKE '%box%';\n",
    "\n",
    "'''\n",
    "Wow, some of these are marketing gold! But what are their order numbers?\n",
    "Instead of just returning the special instructions, also return their order ids.\n",
    "For more readability:\n",
    "Rename id as ‘#’\n",
    "Rename special_instructions as ‘Notes’\n",
    "'''\n",
    "SELECT id AS '#', special_instructions AS 'Notes'\n",
    "FROM orders\n",
    "WHERE special_instructions LIKE '%box%';"
   ]
  }
 ],
 "metadata": {
  "kernelspec": {
   "display_name": "Python 3",
   "language": "python",
   "name": "python3"
  },
  "language_info": {
   "codemirror_mode": {
    "name": "ipython",
    "version": 3
   },
   "file_extension": ".py",
   "mimetype": "text/x-python",
   "name": "python",
   "nbconvert_exporter": "python",
   "pygments_lexer": "ipython3",
   "version": "3.7.3"
  }
 },
 "nbformat": 4,
 "nbformat_minor": 2
}
