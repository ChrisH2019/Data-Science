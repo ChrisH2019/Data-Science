{
 "cells": [
  {
   "cell_type": "markdown",
   "metadata": {},
   "source": [
    "# New York Restaurants"
   ]
  },
  {
   "cell_type": "markdown",
   "metadata": {},
   "source": [
    "We have put together a table of restaurants called nomnom and we need your help to answer some questions. Use the SQL commands you just learned and find the best dinner spots in the city."
   ]
  },
  {
   "cell_type": "markdown",
   "metadata": {},
   "source": [
    "<img src=\"https://s3.amazonaws.com/codecademy-content/courses/sql-intensive/nomnom.png\">"
   ]
  },
  {
   "cell_type": "code",
   "execution_count": null,
   "metadata": {},
   "outputs": [],
   "source": [
    "# Start by getting a feel for the nomnom table\n",
    "SELECT * \n",
    "FROM nomnom;\n",
    "\n",
    "# What are the distinct neighborhoods\n",
    "SELECT DISTINCT neighborhood\n",
    "FROM nomnom;\n",
    "\n",
    "# What are the distinct cuisine types\n",
    "SELECT DISTINCT cuisine\n",
    "FROM nomnom;\n",
    "\n",
    "# Suppose we would like some Chinese takeout. What are our options\n",
    "SELECT *\n",
    "FROM nomnom\n",
    "WHERE cuisine = 'Chinese';\n",
    "\n",
    "# Return all the restaurants with reviews of 4 and above\n",
    "SELECT *\n",
    "FROM nomnom\n",
    "WHERE review >= 4;\n",
    "\n",
    "\n",
    "# Suppose Abbi and Ilana want to have a fancy dinner date.\n",
    "# Return all the restaurants that are Italian and $$$.\n",
    "SELECT *\n",
    "FROM nomnom\n",
    "WHERE cuisine = 'Italian'\n",
    "AND price = '$$$';\n",
    "    \n",
    "# Your coworker Trey can’t remember the exact name of a restaurant \n",
    "# he went to but he knows it contains the word ‘meatball’ in it.\n",
    "SELECT *\n",
    "FROM nomnom\n",
    "WHERE name LIKE '%meatball%';\n",
    "\n",
    "# Let’s order delivery to the house! \n",
    "# Find all the close by spots in Midtown, Downtown or Chinatown.\n",
    "SELECT *\n",
    "FROM nomnom\n",
    "WHERE neighborhood = 'Midtown'\n",
    "OR  neighborhood = 'Downtown'\n",
    "OR  neighborhood = 'Chinatown';\n",
    "\n",
    "# Find all the health grade pending restaurants (empty values)\n",
    "SELECT *\n",
    "FROM nomnom\n",
    "WHERE health IS NULL;\n",
    "\n",
    "# Create a Top 10 Restaurants Ranking based on reviews\n",
    "SELECT *\n",
    "FROM nomnom\n",
    "ORDER BY review DESC\n",
    "LIMIT 10;\n",
    "\n",
    "\"\"\"\n",
    "Use a CASE statement to change the rating system to:\n",
    "review > 4.5 is Extraordinary\n",
    "review > 4 is Excellent\n",
    "review > 3 is Good\n",
    "review > 2 is Fair\n",
    "Everything else is Poor\n",
    "\"\"\"\n",
    "SELECT name,\n",
    "  CASE\n",
    "    WHEN review > 4.5 THEN 'Extraordinary'\n",
    "    WHEN review > 4 \tTHEN 'Excellent'\n",
    "    WHEN review > 3\t\tTHEN 'Good'\n",
    "    WHEN review > 2\t\tTHEN 'Fair'\n",
    "    ELSE 'Poor'\n",
    "  END AS 'Review'\n",
    "FROM nomnom;"
   ]
  }
 ],
 "metadata": {
  "kernelspec": {
   "display_name": "Python 3",
   "language": "python",
   "name": "python3"
  },
  "language_info": {
   "codemirror_mode": {
    "name": "ipython",
    "version": 3
   },
   "file_extension": ".py",
   "mimetype": "text/x-python",
   "name": "python",
   "nbconvert_exporter": "python",
   "pygments_lexer": "ipython3",
   "version": "3.7.3"
  }
 },
 "nbformat": 4,
 "nbformat_minor": 2
}
