{
 "cells": [
  {
   "cell_type": "markdown",
   "metadata": {},
   "source": [
    "# RPA Customer Segmentation"
   ]
  },
  {
   "cell_type": "markdown",
   "metadata": {},
   "source": [
    "The marketing department of Reputable Product Agency (RPA) is looking to segment the company users by a number of different criteria.\n",
    "\n",
    "In this context, a segment is a subset of users that meet different conditions. Segments are used to send marketing campaigns to users who meet specific criteria or to measure the performance of specific marketing campaigns.\n",
    "\n",
    "Use SQL queries to generate user lists for the marketing department. The users dataset is imported into the workspace."
   ]
  },
  {
   "cell_type": "markdown",
   "metadata": {},
   "source": [
    "<img src=\"https://s3.amazonaws.com/codecademy-content/courses/sql-queries-user-segmentation/users.png\">"
   ]
  },
  {
   "cell_type": "code",
   "execution_count": null,
   "metadata": {},
   "outputs": [],
   "source": [
    "# Start by getting a feel for the users table\n",
    "SELECT *\n",
    "FROM users\n",
    "LIMIT 20;\n",
    "\n",
    "'''\n",
    "The marketing department wants to send a Born in the ‘80s email to the appropriate users.\n",
    "Find the email addresses and birthdays of users whose birthday is between 1980-01-01 \n",
    "and 1989-12-31.\n",
    "'''\n",
    "SELECT email, birthday\n",
    "FROM users\n",
    "WHERE birthday BETWEEN '1980-01-01' AND '1989-12-31';\n",
    "\n",
    "'''\n",
    "We are interested in the cohort of users that signed up prior to May 2017.\n",
    "Find the emails and creation date of users whose created_at date matches this condition.\n",
    "'''\n",
    "SELECT email, created_at\n",
    "FROM users\n",
    "WHERE  created_at < '2017-05-01';\n",
    "\n",
    "'''\n",
    "There was an A/B test performed on users that used cute animal clipart to encourage users \n",
    "to sign up. We’d like to see how the group that was shown ‘bears’ is performing.\n",
    "Find the emails of the users who received the ‘bears’ test.\n",
    "'''\n",
    "SELECT email, test\n",
    "FROM users\n",
    "WHERE test = 'bears';\n",
    "\n",
    "'''\n",
    "\n",
    "A total of 4 advertising campaigns were run over this period.\n",
    "There were two sets of ad copy (set 1 and set 2) and both were \n",
    "run on two search engine sites (AAA and BBB).\n",
    "The resulting campaign values are:\n",
    "AAA-1\n",
    "AAA-2\n",
    "BBB-1\n",
    "BBB-2\n",
    "Find all the emails of all users who received a campaign on website BBB.\n",
    "'''\n",
    "SELECT email\n",
    "FROM users\n",
    "WHERE campaign LIKE 'BBB-%';\n",
    "\n",
    "# Find all the emails of all users who received ad copy 2 in their campaign.\n",
    "SELECT email\n",
    "FROM users\n",
    "WHERE campaign LIKE '%-2';\n",
    "\n",
    "# Find the emails for all users who received both a campaign and a test.\n",
    "SELECT email\n",
    "FROM users\n",
    "WHERE campaign IS NOT NULL\n",
    "AND test IS NOT NULL;"
   ]
  }
 ],
 "metadata": {
  "kernelspec": {
   "display_name": "Python 3",
   "language": "python",
   "name": "python3"
  },
  "language_info": {
   "codemirror_mode": {
    "name": "ipython",
    "version": 3
   },
   "file_extension": ".py",
   "mimetype": "text/x-python",
   "name": "python",
   "nbconvert_exporter": "python",
   "pygments_lexer": "ipython3",
   "version": "3.7.3"
  }
 },
 "nbformat": 4,
 "nbformat_minor": 2
}
