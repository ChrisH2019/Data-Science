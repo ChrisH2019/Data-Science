{
 "cells": [
  {
   "cell_type": "markdown",
   "metadata": {},
   "source": [
    "# RPA Fraud Detection"
   ]
  },
  {
   "cell_type": "markdown",
   "metadata": {},
   "source": [
    "Reputable Product Agency (RPA) has started receiving complaints from their credit card processor about fraudulent transactions. Help your finance department identify potentially risky transactions before they finish processing.\n",
    "\n",
    "This dataset contains a single table, transaction_data."
   ]
  },
  {
   "cell_type": "markdown",
   "metadata": {},
   "source": [
    "<img src=\"https://s3.amazonaws.com/codecademy-content/courses/sql-queries-fraud/transaction-data.png\">"
   ]
  },
  {
   "cell_type": "code",
   "execution_count": null,
   "metadata": {},
   "outputs": [],
   "source": [
    "# Start by getting a feel for the transaction_data table\n",
    "SELECT *\n",
    "FROM transaction_data\n",
    "LIMIT 10;\n",
    "    \n",
    "'''\n",
    "\n",
    "The finance department noted that \n",
    "some of the fraudulent transactions were recorded as coming from Smokey Bear’s zip code (20252).\n",
    "You agree this is suspicious, \n",
    "it’s unlikely that the fire prevention mascot is using Reputable Company’s services.\n",
    "Find the full_names and emails of the transactions listing 20252 as the zip code.\n",
    "'''\n",
    "SELECT full_name, email\n",
    "FROM transaction_data\n",
    "WHERE zip = 20252;\n",
    "\n",
    "'''\n",
    "Finance has also noticed a number of pseudonyms associated with fraudulent transactions.\n",
    "The fraudsters thought it would be funny to use ‘Art Vandelay’ for their full name or\n",
    "add a ‘der’ for their middle name.\n",
    "Use a query to find the names and emails associated with these transactions.\n",
    "'''\n",
    "SELECT full_name, email\n",
    "FROM transaction_data\n",
    "WHERE full_name LIKE '%der%'\n",
    "OR full_name = 'Art Vandelay';\n",
    "\n",
    "'''\n",
    "There are some irregularities in the IP addresses where transactions are originating from.\n",
    "For example, any IP address beginning with ‘10.’ is reserved for internal use.\n",
    "We shouldn’t see IP addresses like this accessing Reputable Company’s service.\n",
    "Find the ip_addresses and emails listed with these transactions.\n",
    "'''\n",
    "SELECT ip_address, email\n",
    "FROM transaction_data\n",
    "WHERE ip_address LIKE '10.%';\n",
    "    \n",
    "'''\n",
    "Users are making fraudulent transactions using a temporary email address service. \n",
    "These services provide a short-lived email that can be verified and then self-destructs.\n",
    "Find the emails in transaction_data with ‘temp_email.com’ as a domain.\n",
    "'''\n",
    "SELECT email\n",
    "FROM transaction_data\n",
    "WHERE email LIKE '%temp_email.com';\n",
    "\n",
    "'''\n",
    "The finance department is looking for a specific transaction. \n",
    "They know that the transaction occurred from an ip address starting with ‘120.’ \n",
    "and their full name starts with ‘John’.\n",
    "'''\n",
    "SELECT *\n",
    "FROM transaction_data\n",
    "WHERE ip_address LIKE '120.%'\n",
    "AND full_name LIKE 'John%';"
   ]
  }
 ],
 "metadata": {
  "kernelspec": {
   "display_name": "Python 3",
   "language": "python",
   "name": "python3"
  },
  "language_info": {
   "codemirror_mode": {
    "name": "ipython",
    "version": 3
   },
   "file_extension": ".py",
   "mimetype": "text/x-python",
   "name": "python",
   "nbconvert_exporter": "python",
   "pygments_lexer": "ipython3",
   "version": "3.7.3"
  }
 },
 "nbformat": 4,
 "nbformat_minor": 2
}
