{
 "cells": [
  {
   "cell_type": "markdown",
   "metadata": {},
   "source": [
    "# Cryptocurrency Exchange"
   ]
  },
  {
   "cell_type": "markdown",
   "metadata": {},
   "source": [
    "Fiddy Cent is a digital currency exchange headquartered in Neo Tokyo. They broker exchanges of Bitcoin, Bitcoin Cash, Ethereum, and Litecoin with fiat currencies in around 50 countries.\n",
    "\n",
    "Help them analyze their January ledger data using SQL aggregate functions! You are given the transactions table, which contains both money-in and money-out transactions."
   ]
  },
  {
   "cell_type": "code",
   "execution_count": null,
   "metadata": {},
   "outputs": [],
   "source": [
    "# Let’s start by checking out the whole transactions table\n",
    "SELECT *\n",
    "FROM transactions;"
   ]
  },
  {
   "cell_type": "code",
   "execution_count": null,
   "metadata": {},
   "outputs": [],
   "source": [
    "# The money_in column records the amount (in USD) the user bought.\n",
    "# What is the total money_in in the table?\n",
    "SELECT SUM(money_in) AS 'total_bought'\n",
    "FROM transactions;"
   ]
  },
  {
   "cell_type": "code",
   "execution_count": null,
   "metadata": {},
   "outputs": [],
   "source": [
    "# The money_out column records the amount (in USD) the user sold.\n",
    "# What is the total money_out in the table?\n",
    "SELECT SUM(money_out) AS 'total_sold'\n",
    "FROM transactions;"
   ]
  },
  {
   "cell_type": "markdown",
   "metadata": {},
   "source": [
    "It was reported that Bitcoin dominates Fiddy Cent’s exchange. Let’s see if it is true within these dates by answering two questions:\n",
    "\n",
    "- How many money_in transactions are in this table?\n",
    "- How many money_in transactions are in this table where ‘BIT’ is the currency?"
   ]
  },
  {
   "cell_type": "code",
   "execution_count": null,
   "metadata": {},
   "outputs": [],
   "source": [
    "SELECT COUNT(*) AS 'total_bought_count'\n",
    "FROM transactions;"
   ]
  },
  {
   "cell_type": "code",
   "execution_count": null,
   "metadata": {},
   "outputs": [],
   "source": [
    "SELECT COUNT(*) AS 'BIT_bought_count'\n",
    "FROM transactions\n",
    "WHERE currency = 'BIT';"
   ]
  },
  {
   "cell_type": "code",
   "execution_count": null,
   "metadata": {},
   "outputs": [],
   "source": [
    "# What was the largest transaction in this whole table?\n",
    "# Was it money_in or money_out?\n",
    "SELECT currency, MAX(money_in) AS 'largest_bought'\n",
    "FROM transactions;\n",
    "\n",
    "SELECT currency, MAX(money_out) AS 'largest_sold'\n",
    "FROM transactions;"
   ]
  },
  {
   "cell_type": "code",
   "execution_count": null,
   "metadata": {},
   "outputs": [],
   "source": [
    "# What is the average money_in in the table for the currency Ethereum (‘ETH’)?\n",
    "SELECT AVG(money_in) AS 'avg_ETH_bought'\n",
    "FROM transactions\n",
    "WHERE currency = 'ETH';"
   ]
  },
  {
   "cell_type": "code",
   "execution_count": null,
   "metadata": {},
   "outputs": [],
   "source": [
    "# Let’s build a ledger for the different dates.\n",
    "SELECT date, AVG(money_in) AS 'avg_bought', AVG(money_out) AS 'avg_sold'\n",
    "FROM transactions\n",
    "GROUP BY 1;"
   ]
  }
 ],
 "metadata": {
  "kernelspec": {
   "display_name": "Python 3",
   "language": "python",
   "name": "python3"
  },
  "language_info": {
   "codemirror_mode": {
    "name": "ipython",
    "version": 3
   },
   "file_extension": ".py",
   "mimetype": "text/x-python",
   "name": "python",
   "nbconvert_exporter": "python",
   "pygments_lexer": "ipython3",
   "version": "3.7.3"
  }
 },
 "nbformat": 4,
 "nbformat_minor": 2
}
