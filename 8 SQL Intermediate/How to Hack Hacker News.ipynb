{
 "cells": [
  {
   "cell_type": "markdown",
   "metadata": {},
   "source": [
    "# How to Hack Hacker News"
   ]
  },
  {
   "cell_type": "markdown",
   "metadata": {},
   "source": [
    "<img src=\"https://s3.amazonaws.com/codecademy-content/courses/sql-intensive/hackernews.gif\">"
   ]
  },
  {
   "cell_type": "markdown",
   "metadata": {},
   "source": [
    "<a href=\"https://news.ycombinator.com\">Hacker News</a> is a popular website run by Y Combinator. It’s widely known by people in the tech industry as a community site for sharing news, showing off projects, asking questions, among other things.\n",
    "\n",
    "In this project, you will be working with a table named hacker_news that contains stories from Hacker News since its launch in 2007. It has the following columns:\n",
    "\n",
    "title - the title of the story\n",
    "user - the user who submitted the story\n",
    "score - the score of the story\n",
    "timestamp - the time of the story\n",
    "url - the link of the story\n",
    "This data was kindly made publicly available under the <a href=\"https://opensource.org/licenses/MIT/\">MIT license</a>."
   ]
  },
  {
   "cell_type": "markdown",
   "metadata": {},
   "source": [
    "## Pre-Gaming for Aggregates"
   ]
  },
  {
   "cell_type": "code",
   "execution_count": null,
   "metadata": {},
   "outputs": [],
   "source": [
    "# Start by getting a feel for the hacker_news table!\n",
    "# Let’s find the most popular Hacker News stories\n",
    "SELECT title, score\n",
    "FROM hacker_news\n",
    "ORDER BY score DESC\n",
    "LIMIT 5;"
   ]
  },
  {
   "cell_type": "markdown",
   "metadata": {},
   "source": [
    "## Hacker News Moderating"
   ]
  },
  {
   "cell_type": "markdown",
   "metadata": {},
   "source": [
    "Recent studies have found that online forums tend to be dominated by a small percentage of their users (<a href=\"https://en.wikipedia.org/wiki/1%25_rule_(Internet_culture)\">1-9-90 Rule</a>).\n",
    "\n",
    "Is this true of Hacker News?\n",
    "\n",
    "Is a small percentage of Hacker News submitters taking the majority of the points?\n",
    "\n",
    "First, find the total score of all the stories."
   ]
  },
  {
   "cell_type": "code",
   "execution_count": null,
   "metadata": {},
   "outputs": [],
   "source": [
    "SELECT SUM(score) AS 'total_scores'\n",
    "FROM hacker_news;"
   ]
  },
  {
   "cell_type": "markdown",
   "metadata": {},
   "source": [
    "Next, we need to pinpoint the users who have accumulated a lot of points across their stories.\n",
    "\n",
    "Find the individual users who have gotten combined scores of more than 200, and their combined scores."
   ]
  },
  {
   "cell_type": "code",
   "execution_count": null,
   "metadata": {},
   "outputs": [],
   "source": [
    "SELECT user, SUM(score) AS 'combined_scores'\n",
    "FROM hacker_news\n",
    "GROUP BY 1\n",
    "HAVING combined_scores > 200\n",
    "ORDER BY 2 DESC;"
   ]
  },
  {
   "cell_type": "markdown",
   "metadata": {},
   "source": [
    "\n",
    "Then, we want to add these users’ scores together and divide by the total to get the percentage.\n",
    "\n",
    "Add their scores together and divide it by the total sum. "
   ]
  },
  {
   "cell_type": "code",
   "execution_count": null,
   "metadata": {},
   "outputs": [],
   "source": [
    "SELECT SUM(combined_scores) / 6366.0 AS 'percent_score'\n",
    "FROM (SELECT user, SUM(score) AS 'combined_scores'\n",
    "FROM hacker_news\n",
    "GROUP BY 1\n",
    "HAVING combined_scores > 200\n",
    "ORDER BY 2 DESC);"
   ]
  },
  {
   "cell_type": "markdown",
   "metadata": {},
   "source": [
    "Oh no! While we are looking at the power users, some users are rickrolling — tricking readers into clicking on a link to a funny video and claiming that it links to information about coding.\n",
    "\n",
    "The url of the video is:\n",
    "\n",
    "https://www.youtube.com/watch?v=dQw4w9WgXcQ\n",
    "\n",
    "How many times has each offending user posted this link?"
   ]
  },
  {
   "cell_type": "code",
   "execution_count": null,
   "metadata": {},
   "outputs": [],
   "source": [
    "SELECT user, COUNT(*) AS 'number_of_offending_links'\n",
    "FROM hacker_news\n",
    "WHERE url LIKE '%youtube.com/watch?v=dQw4w9WgXcQ%'\n",
    "GROUP BY 1\n",
    "ORDER BY 2 DESC;"
   ]
  },
  {
   "cell_type": "markdown",
   "metadata": {},
   "source": [
    "## Which sites feed Hacker News?"
   ]
  },
  {
   "cell_type": "markdown",
   "metadata": {},
   "source": [
    "\n",
    "Hacker News stories are essentially links that take users to other websites.\n",
    "\n",
    "Which of these sites feed Hacker News the most:\n",
    "\n",
    "*GitHub, Medium, or New York Times?*\n",
    "\n",
    "First, we want to categorize each story based on their source.\n",
    "\n",
    "We can do this using a CASE statement:"
   ]
  },
  {
   "cell_type": "code",
   "execution_count": null,
   "metadata": {},
   "outputs": [],
   "source": [
    "SELECT CASE\n",
    "    WHEN url LIKE '%github.com%' THEN 'Github'\n",
    "    WHEN url LIKE '%medium.com%' THEN 'Medium'\n",
    "    WHEN url LIKE '%nytimes.com%' THEN 'New York Times'\n",
    "    ELSE 'Other'\n",
    "    END AS 'source'\n",
    "FROM hacker_news;"
   ]
  },
  {
   "cell_type": "markdown",
   "metadata": {},
   "source": [
    "Add a column for the number of stories from each URL using COUNT()."
   ]
  },
  {
   "cell_type": "code",
   "execution_count": null,
   "metadata": {},
   "outputs": [],
   "source": [
    "SELECT CASE\n",
    "   WHEN url LIKE '%github.com%' THEN 'GitHub'\n",
    "   WHEN url LIKE '%medium.com%' THEN 'Medium'\n",
    "   WHEN url LIKE '%nytimes.com%' THEN 'New York Times'\n",
    "   ELSE 'Other'\n",
    "  END AS 'source',\n",
    "  COUNT(*)\n",
    "FROM hacker_news\n",
    "GROUP BY 1;"
   ]
  },
  {
   "cell_type": "markdown",
   "metadata": {},
   "source": [
    "## What's the best time to post a story?"
   ]
  },
  {
   "cell_type": "markdown",
   "metadata": {},
   "source": [
    "Every submitter wants their story to get a high score so that the story makes it to the front page, but…\n",
    "\n",
    "What’s the best time of the day to post a story on Hacker News?\n",
    "\n",
    "Before we get started, let’s run this query and take a look at the timestamp column:"
   ]
  },
  {
   "cell_type": "code",
   "execution_count": null,
   "metadata": {},
   "outputs": [],
   "source": [
    "SELECT timestamp\n",
    "FROM hacker_news\n",
    "LIMIT 10;"
   ]
  },
  {
   "cell_type": "markdown",
   "metadata": {},
   "source": [
    "SQLite comes with a strftime() function - a very powerful function that allows you to return a formatted date.\n",
    "\n",
    "It takes two arguments:\n",
    "\n",
    "strftime(format, column)\n",
    "\n",
    "Let’s test this function out:"
   ]
  },
  {
   "cell_type": "code",
   "execution_count": null,
   "metadata": {},
   "outputs": [],
   "source": [
    "SELECT timestamp,\n",
    "   strftime('%H', timestamp)\n",
    "FROM hacker_news\n",
    "GROUP BY 1\n",
    "LIMIT 20;"
   ]
  },
  {
   "cell_type": "markdown",
   "metadata": {},
   "source": [
    "Okay, now we understand how strftime() works. Let’s write a query that returns three columns:\n",
    "\n",
    "1. The hours of the timestamp\n",
    "2. The average score for each hour\n",
    "3. The count of stories for each hour"
   ]
  },
  {
   "cell_type": "code",
   "execution_count": null,
   "metadata": {},
   "outputs": [],
   "source": [
    "SELECT strftime('%H', timestamp) AS 'hours', AVG(score) AS 'avg_score', COUNT(*) AS 'count'\n",
    "FROM hacker_news\n",
    "GROUP BY 1\n",
    "ORDER BY 1;"
   ]
  },
  {
   "cell_type": "code",
   "execution_count": null,
   "metadata": {},
   "outputs": [],
   "source": [
    "# The best hours to post a story on Hacker News\n",
    "SELECT hours, ROUND(avg_score, 2), count\n",
    "FROM (SELECT strftime('%H', timestamp) AS 'hours', AVG(score) AS 'avg_score', COUNT(*) AS 'count'\n",
    "FROM hacker_news\n",
    "GROUP BY 1\n",
    "ORDER BY 1)\n",
    "WHERE avg_score IS NOT NULL\n",
    "ORDER BY 2 DESC;"
   ]
  }
 ],
 "metadata": {
  "kernelspec": {
   "display_name": "Python 3",
   "language": "python",
   "name": "python3"
  },
  "language_info": {
   "codemirror_mode": {
    "name": "ipython",
    "version": 3
   },
   "file_extension": ".py",
   "mimetype": "text/x-python",
   "name": "python",
   "nbconvert_exporter": "python",
   "pygments_lexer": "ipython3",
   "version": "3.7.3"
  }
 },
 "nbformat": 4,
 "nbformat_minor": 2
}
