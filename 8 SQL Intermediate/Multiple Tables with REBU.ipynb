{
 "cells": [
  {
   "cell_type": "markdown",
   "metadata": {},
   "source": [
    "# Multiple Tables with REBU"
   ]
  },
  {
   "cell_type": "markdown",
   "metadata": {},
   "source": [
    "Suppose you are a data analyst at REBU, a ridesharing platform. For a project, you were given three tables:\n",
    "\n",
    "- trips - trips information\n",
    "- riders - users data\n",
    "- cars - autonomous cars"
   ]
  },
  {
   "cell_type": "code",
   "execution_count": null,
   "metadata": {},
   "outputs": [],
   "source": [
    "# Let’s examine the three tables.\n",
    "SELECT * FROM trips;\n",
    "SELECT * FROM riders;\n",
    "SELECT * FROM cars;"
   ]
  },
  {
   "cell_type": "code",
   "execution_count": null,
   "metadata": {},
   "outputs": [],
   "source": [
    "# Suppose we want to create a Trip Log with the trips and its users.\n",
    "SELECT *\n",
    "FROM trips\n",
    "LEFT JOIN riders\n",
    "    ON trips.rider_id = riders.id;"
   ]
  },
  {
   "cell_type": "code",
   "execution_count": null,
   "metadata": {},
   "outputs": [],
   "source": [
    "# Suppose we want to create a link between the trips and the cars used during those trips.\n",
    "SELECT *\n",
    "FROM trips\n",
    "JOIN cars\n",
    "    ON trips.car_id = cars.id;"
   ]
  },
  {
   "cell_type": "code",
   "execution_count": null,
   "metadata": {},
   "outputs": [],
   "source": [
    "# The new riders data are in! There are three new users this month.\n",
    "# Stack the riders table on top of the new table named riders2.\n",
    "SELECT *\n",
    "FROM riders\n",
    "UNION\n",
    "SELECT *\n",
    "FROM riders2;"
   ]
  },
  {
   "cell_type": "code",
   "execution_count": null,
   "metadata": {},
   "outputs": [],
   "source": [
    "# What is the average cost for a trip?\n",
    "SELECT AVG(cost) as 'avg_cost'\n",
    "FROM trips;"
   ]
  },
  {
   "cell_type": "code",
   "execution_count": null,
   "metadata": {},
   "outputs": [],
   "source": [
    "# REBU is looking to do an email campaign for all the irregular users.\n",
    "SELECT *\n",
    "FROM riders\n",
    "WHERE total_trips < 500;"
   ]
  },
  {
   "cell_type": "code",
   "execution_count": null,
   "metadata": {},
   "outputs": [],
   "source": [
    "# Calculate the number of cars that are active.\n",
    "SELECT COUNT(*) 'number_of_active_cars'\n",
    "FROM cars\n",
    "WHERE status = 'active';"
   ]
  },
  {
   "cell_type": "code",
   "execution_count": null,
   "metadata": {},
   "outputs": [],
   "source": [
    "# It’s safety recall time for cars that have been on the road for a while.\n",
    "# Write a query that finds the two cars that have the highest trips_completed.\n",
    "SELECT *\n",
    "FROM cars\n",
    "ORDER BY trips_completed DESC\n",
    "LIMIT 2;"
   ]
  }
 ],
 "metadata": {
  "kernelspec": {
   "display_name": "Python 3",
   "language": "python",
   "name": "python3"
  },
  "language_info": {
   "codemirror_mode": {
    "name": "ipython",
    "version": 3
   },
   "file_extension": ".py",
   "mimetype": "text/x-python",
   "name": "python",
   "nbconvert_exporter": "python",
   "pygments_lexer": "ipython3",
   "version": "3.7.3"
  }
 },
 "nbformat": 4,
 "nbformat_minor": 2
}
