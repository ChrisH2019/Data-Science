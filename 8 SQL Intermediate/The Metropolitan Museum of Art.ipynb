{
 "cells": [
  {
   "cell_type": "markdown",
   "metadata": {},
   "source": [
    "# The Metropolitan Museum of Art"
   ]
  },
  {
   "cell_type": "markdown",
   "metadata": {},
   "source": [
    "<img src=\"https://i.imgur.com/SiWlHHW.jpg?1\">\n",
    "\n",
    "<a href=\"https://www.metmuseum.org/\">The Metropolitan Museum of Art of New York</a> is one of the world’s largest and finest art museums.\n",
    "\n",
    "In this project, you will be working with a table named met that contains the museum’s collection of American Decorative Arts.\n",
    "\n",
    "It has the following columns:\n",
    "\n",
    "id - the title of the art piece\n",
    "department - the department of the art piece\n",
    "category - the category of the art piece\n",
    "title - the title name of the art piece\n",
    "artist - the name of the artist\n",
    "date - the date(s) of the art piece\n",
    "medium - the medium of the art piece\n",
    "country - the country of the artist\n",
    "This data was kindly made publicly available under the <a href=\"https://www.metmuseum.org/about-the-met/policies-and-documents/image-resources\">Open Access Policy</a>."
   ]
  },
  {
   "cell_type": "code",
   "execution_count": null,
   "metadata": {},
   "outputs": [],
   "source": [
    "# Start by getting a feel for the met table:\n",
    "SELECT *\n",
    "FROM met\n",
    "LIMIT 10;\n",
    "\n",
    "# How many pieces are in the American Decorative Art collection?\n",
    "SELECT COUNT(*) AS 'count'\n",
    "FROM met;\n",
    "\n",
    "# Count the number of pieces where the category includes ‘celery’.\n",
    "SELECT COUNT(*) AS 'celery_count'\n",
    "FROM met\n",
    "WHERE catetory LIKE '%celery%';\n",
    "\n",
    "# Find the title and medium of the oldest piece(s) in the collection.\n",
    "SELECT MIN(date)\n",
    "FROM met;\n",
    "\n",
    "# Find the top 10 countries with the most pieces in the collection.\n",
    "SELECT country, COUNT(*) AS 'count'\n",
    "FROM met\n",
    "WHERE country IS NOT NULL\n",
    "GROUP BY 1\n",
    "ORDER BY count DESC\n",
    "LIMIT 10;\n",
    "\n",
    "# Find the categories HAVING more than 100 pieces.\n",
    "SELECT category, COUNT(*) AS 'count'\n",
    "FROM met\n",
    "GROUP BY 1\n",
    "HAVING count > 100;\n",
    "\n",
    "# Count the number of pieces where the medium contains ‘gold’ or ‘silver’.\n",
    "SELECT CASE\n",
    "   WHEN medium LIKE '%gold%'   THEN 'Gold'\n",
    "   WHEN medium LIKE '%silver%' THEN 'Silver'\n",
    "   ELSE NULL\n",
    "  END AS 'bling',\n",
    "  COUNT(*) AS 'count'\n",
    "FROM met\n",
    "WHERE bling IS NOT NULL\n",
    "GROUP BY 1\n",
    "ORDER BY 2 DESC;"
   ]
  }
 ],
 "metadata": {
  "kernelspec": {
   "display_name": "Python 3",
   "language": "python",
   "name": "python3"
  },
  "language_info": {
   "codemirror_mode": {
    "name": "ipython",
    "version": 3
   },
   "file_extension": ".py",
   "mimetype": "text/x-python",
   "name": "python",
   "nbconvert_exporter": "python",
   "pygments_lexer": "ipython3",
   "version": "3.7.3"
  }
 },
 "nbformat": 4,
 "nbformat_minor": 2
}
