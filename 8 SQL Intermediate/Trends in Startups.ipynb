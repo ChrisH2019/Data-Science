{
 "cells": [
  {
   "cell_type": "markdown",
   "metadata": {},
   "source": [
    "# Trends in Startups"
   ]
  },
  {
   "cell_type": "markdown",
   "metadata": {},
   "source": [
    "Howdy! It’s your first day as a TechCrunch reporter. Your first task is to write an article on the rising trends in the startup world.\n",
    "\n",
    "To get you started with your research, your boss emailed you a project.sqlite file that contains a table called startups. It is a portfolio of some of the biggest names in the industry.\n",
    "\n",
    "Write queries with aggregate functions to retrieve some interesting insights about these companies."
   ]
  },
  {
   "cell_type": "code",
   "execution_count": null,
   "metadata": {},
   "outputs": [],
   "source": [
    "# Getting started, take a look at the startups table\n",
    "FROM startups\n",
    "LIMIT 20;\n",
    "\n",
    "# Calculate the total number of companies in the table.\n",
    "SELECT COUNT(DISTINCT name) AS 'total_number_of_companies'\n",
    "FROM startups;\n",
    "\n",
    "# We want to know the total value of all companies in this table.\n",
    "SELECT SUM(valuation) AS 'total_value_of_companies'\n",
    "FROM startups;\n",
    "\n",
    "# What is the highest amount raised by a startup?\n",
    "SELECT MAX(raised) AS 'max_raised'\n",
    "FROM startups;\n",
    "\n",
    "# Edit the query so that it returns the maximum amount of money raised, during ‘Seed’ stage.\n",
    "SELECT MAX(raised) AS 'max_raised'\n",
    "FROM startups\n",
    "WHERE stage = 'Seed';\n",
    "\n",
    "# In what year was the oldest company on the list founded?\n",
    "SELECT MIN(founded) AS 'oldest_company_founded'\n",
    "FROM startups;\n",
    "\n",
    "# Return the average valuation.\n",
    "SELECT AVG(valuation) AS 'avg_valuation'\n",
    "FROM startups;\n",
    "\n",
    "\n",
    "# Return the average valuation, in each category.\n",
    "SELECT category, AVG(valuation) AS 'avg_valuation'\n",
    "FROM startups\n",
    "GROUP BY 1;\n",
    "\n",
    "\n",
    "# Return the average valuation, in each category. Round the averages to two decimal places.\n",
    "SELECT category, ROUND(AVG(valuation), 2) AS 'avg_valuation'\n",
    "FROM startups\n",
    "GROUP BY 1;\n",
    "\n",
    "# Return the average valuation, in each category. Round the averages to two decimal places.\n",
    "# Lastly, order the list from highest averages to lowest.\n",
    "SELECT category, ROUND(AVG(valuation), 2) AS 'avg_valuation'\n",
    "FROM startups\n",
    "GROUP BY 1\n",
    "ORDER BY 2 DESC;\n",
    "\n",
    "# What are the most competitive markets\n",
    "SELECT category, COUNT(*) AS 'count'\n",
    "FROM startups\n",
    "GROUP BY 1\n",
    "HAVING count > 3\n",
    "ORDER BY count DESC;\n",
    "\n",
    "# What is the average size of a startup in each location\n",
    "SELECT location, AVG(employees) AS 'avg-employees'\n",
    "FROM startups\n",
    "GROUP BY location;\n",
    "\n",
    "# What is the average size of a startup in each location, with average sizes above 500?\n",
    "SELECT location, AVG(employees) AS 'avg_employees'\n",
    "FROM startups\n",
    "GROUP BY location\n",
    "HAVING avg_employees > 500;"
   ]
  }
 ],
 "metadata": {
  "kernelspec": {
   "display_name": "Python 3",
   "language": "python",
   "name": "python3"
  },
  "language_info": {
   "codemirror_mode": {
    "name": "ipython",
    "version": 3
   },
   "file_extension": ".py",
   "mimetype": "text/x-python",
   "name": "python",
   "nbconvert_exporter": "python",
   "pygments_lexer": "ipython3",
   "version": "3.7.3"
  }
 },
 "nbformat": 4,
 "nbformat_minor": 2
}
