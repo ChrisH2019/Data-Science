{
 "cells": [
  {
   "cell_type": "markdown",
   "metadata": {},
   "source": [
    "# Attribution Queries"
   ]
  },
  {
   "cell_type": "markdown",
   "metadata": {},
   "source": [
    "CoolTShirts sells shirts of all kinds, as long as they are T-shaped and cool. Recently, CTS started a few marketing campaigns to increase website visits and purchases. Using touch attribution, they’d like to map their customers’ journey: from initial visit to purchase. They can use that information to optimize their marketing campaigns. \n",
    "\n",
    "<img src=\"page_visits_schema.JPG\">"
   ]
  },
  {
   "cell_type": "markdown",
   "metadata": {},
   "source": [
    "## Get familiar with CoolTShirts"
   ]
  },
  {
   "cell_type": "markdown",
   "metadata": {},
   "source": [
    "How many campaigns and sources does CoolTShirts use? Which source is used for each campaign?"
   ]
  },
  {
   "cell_type": "code",
   "execution_count": null,
   "metadata": {
    "scrolled": true
   },
   "outputs": [],
   "source": [
    "# the number of distinct campaigns\n",
    "SELECT COUNT(DISTINCT utm_campaign)\n",
    "FROM page_visits\n",
    "\n",
    "# the number of distinct sources\n",
    "SELECT COUNT(DISTINCT utm_source)\n",
    "FROM page_visits;\n",
    "\n",
    "# find how they are related\n",
    "SELECT DISTINCT utm_source, utm_campaign\n",
    "FROM page_visits;"
   ]
  },
  {
   "cell_type": "code",
   "execution_count": null,
   "metadata": {},
   "outputs": [],
   "source": [
    "# What pages are on the CoolTShirts website?\n",
    "SELECT DISTINCT page_name\n",
    "FROM page_visits;"
   ]
  },
  {
   "cell_type": "markdown",
   "metadata": {},
   "source": [
    "## What is the user journey?"
   ]
  },
  {
   "cell_type": "code",
   "execution_count": null,
   "metadata": {},
   "outputs": [],
   "source": [
    "# How many first touches is each campaign responsible for?\n",
    "WITH first_touch AS (\n",
    "    SELECT user_id,\n",
    "        MIN(timestamp) as first_touch_at\n",
    "    FROM page_visits\n",
    "    GROUP BY user_id),\n",
    "cross_join AS\n",
    "(SELECT ft.user_id,\n",
    "    ft.first_touch_at,\n",
    "    pv.utm_source,\n",
    "\t\tpv.utm_campaign\n",
    "FROM first_touch ft\n",
    "JOIN page_visits pv\n",
    "    ON ft.user_id = pv.user_id\n",
    "    AND ft.first_touch_at = pv.timestamp)\n",
    "SELECT utm_campaign, COUNT(first_touch_at) as 'num_first_touch'\n",
    "FROM cross_join\n",
    "GROUP BY 1\n",
    "ORDER BY num_first_touch DESC;"
   ]
  },
  {
   "cell_type": "code",
   "execution_count": null,
   "metadata": {},
   "outputs": [],
   "source": [
    "# How many last touches is each campaign responsible for?\n",
    "WITH last_touch AS (\n",
    "    SELECT user_id,\n",
    "        MAX(timestamp) as last_touch_at\n",
    "    FROM page_visits\n",
    "    GROUP BY user_id),\n",
    "cross_join AS\n",
    "(SELECT lt.user_id,\n",
    "    lt.last_touch_at,\n",
    "    pv.utm_source,\n",
    "\t\tpv.utm_campaign\n",
    "FROM last_touch lt\n",
    "JOIN page_visits pv\n",
    "    ON lt.user_id = pv.user_id\n",
    "    AND lt.last_touch_at = pv.timestamp)\n",
    "SELECT utm_campaign, COUNT(last_touch_at) as 'num_last_touch'\n",
    "FROM cross_join\n",
    "GROUP BY 1\n",
    "ORDER BY num_last_touch DESC;"
   ]
  },
  {
   "cell_type": "code",
   "execution_count": null,
   "metadata": {},
   "outputs": [],
   "source": [
    "# How many visitors make a purchase?\n",
    "SELECT page_name, COUNT(DISTINCT user_id) as 'num_visitors_purchase'\n",
    "FROM page_visits\n",
    "WHERE page_name = '4 - purchase';"
   ]
  },
  {
   "cell_type": "code",
   "execution_count": null,
   "metadata": {},
   "outputs": [],
   "source": [
    "# How many last touches on the purchase page is each campaign responsible for?\n",
    "WITH last_touch AS (\n",
    "    SELECT user_id,\n",
    "        MAX(timestamp) as last_touch_at\n",
    "    FROM page_visits\n",
    "  \tWHERE page_name = '4 - purchase'\n",
    "    GROUP BY user_id),\n",
    "cross_join AS\n",
    "(SELECT lt.user_id,\n",
    "    lt.last_touch_at,\n",
    "    pv.utm_source,\n",
    "\t\tpv.utm_campaign\n",
    "FROM last_touch lt\n",
    "JOIN page_visits pv\n",
    "    ON lt.user_id = pv.user_id\n",
    "    AND lt.last_touch_at = pv.timestamp)\n",
    "SELECT utm_campaign, COUNT(last_touch_at) as 'num_last_touch_on_purchase'\n",
    "FROM cross_join\n",
    "GROUP BY 1\n",
    "ORDER BY num_last_touch_on_purchase DESC;"
   ]
  }
 ],
 "metadata": {
  "kernelspec": {
   "display_name": "Python 3",
   "language": "python",
   "name": "python3"
  },
  "language_info": {
   "codemirror_mode": {
    "name": "ipython",
    "version": 3
   },
   "file_extension": ".py",
   "mimetype": "text/x-python",
   "name": "python",
   "nbconvert_exporter": "python",
   "pygments_lexer": "ipython3",
   "version": "3.7.3"
  }
 },
 "nbformat": 4,
 "nbformat_minor": 2
}
