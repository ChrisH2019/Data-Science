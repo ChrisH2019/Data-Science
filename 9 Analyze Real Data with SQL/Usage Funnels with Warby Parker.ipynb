{
 "cells": [
  {
   "cell_type": "markdown",
   "metadata": {},
   "source": [
    "# Usage Funnels with Warby Parker"
   ]
  },
  {
   "cell_type": "markdown",
   "metadata": {},
   "source": [
    "<a href=\"https://www.warbyparker.com/\">Warby Parker</a> is a transformative lifestyle brand with a lofty objective: to offer designer eyewear at a revolutionary price while leading the way for socially conscious businesses. Founded in 2010 and named after two characters in an early Jack Kerouac journal, Warby Parker believes in creative thinking, smart design, and doing good in the world. For every pair of eyeglasses and sunglasses sold, a pair is distributed to someone in need.\n",
    "\n",
    "In this project, you will analyze different Warby Parker’s marketing funnels in order to calculate conversion rates. Here are the funnels and the tables that you are given:\n",
    "\n",
    "Quiz Funnel:\n",
    "\n",
    "- `survey`\n",
    "\n",
    "Home Try-On Funnel:\n",
    "\n",
    "- `quiz`\n",
    "- `home_try_on`\n",
    "- `purchase`\n",
    "\n",
    "This project was a collaboration with Warby Parker’s Data Science team (thank you!) and uses fictional data."
   ]
  },
  {
   "cell_type": "markdown",
   "metadata": {},
   "source": [
    "## Quiz Funnel:"
   ]
  },
  {
   "cell_type": "markdown",
   "metadata": {},
   "source": [
    "To help users find their perfect frame, Warby Parker has a Style Quiz that has the following questions:\n",
    "\n",
    "1. “What are you looking for?”\n",
    "2. “What’s your fit?”\n",
    "3. “Which shapes do you like?”\n",
    "4. “Which colors do you like?”\n",
    "5. “When was your last eye exam?”\n",
    "\n",
    "The users’ responses are stored in a table called survey."
   ]
  },
  {
   "cell_type": "code",
   "execution_count": null,
   "metadata": {},
   "outputs": [],
   "source": [
    "SELECT *\n",
    "FROM survey\n",
    "LIMIT 10;"
   ]
  },
  {
   "cell_type": "markdown",
   "metadata": {},
   "source": [
    "Users will “give up” at different points in the survey. Let’s analyze how many users move from Question 1 to Question 2, etc."
   ]
  },
  {
   "cell_type": "code",
   "execution_count": null,
   "metadata": {},
   "outputs": [],
   "source": [
    "SELECt question, COUNT(DISTINCT user_id)\n",
    "FROM survey\n",
    "GROUP BY 1;"
   ]
  },
  {
   "cell_type": "markdown",
   "metadata": {},
   "source": [
    "## Home Try-On Funnel:"
   ]
  },
  {
   "cell_type": "markdown",
   "metadata": {},
   "source": [
    "\n",
    "Warby Parker’s purchase funnel is:\n",
    "\n",
    "Take the Style Quiz → Home Try-On → Purchase the Perfect Pair of Glasses\n",
    "\n",
    "During the Home Try-On stage, we will be conducting an A/B Test:\n",
    "\n",
    "- 50% of the users will get 3 pairs to try on\n",
    "- 50% of the users will get 5 pairs to try on\n",
    "Let’s find out whether or not users who get more pairs to try on at home will be more likely to make a purchase.\n",
    "\n",
    "The data will be distributed across three tables:\n",
    "\n",
    "- quiz\n",
    "- home_try_on\n",
    "- purchase\n",
    "\n",
    "Examine the first five rows of each table"
   ]
  },
  {
   "cell_type": "code",
   "execution_count": null,
   "metadata": {},
   "outputs": [],
   "source": [
    " SELECT *\n",
    " FROM quiz\n",
    " LIMIT 5;\n",
    " \n",
    "SELECT *\n",
    "FROM home_try_on\n",
    "LIMIT 5;\n",
    " \n",
    " SELECT *\n",
    " FROM purchase\n",
    " LIMIT 5;"
   ]
  },
  {
   "cell_type": "code",
   "execution_count": null,
   "metadata": {},
   "outputs": [],
   "source": [
    "SELECT DISTINCT q.user_id,\n",
    "   h.user_id IS NOT NULL AS 'is_home_try_on',\n",
    "   h.number_of_pairs,\n",
    "   p.user_id IS NOT NULL AS 'is_purchase'\n",
    "FROM quiz q\n",
    "LEFT JOIN home_try_on h\n",
    "   ON q.user_id = h.user_id\n",
    "LEFT JOIN purchase p\n",
    "   ON p.user_id = q.user_id\n",
    "LIMIT 10;"
   ]
  },
  {
   "cell_type": "code",
   "execution_count": null,
   "metadata": {},
   "outputs": [],
   "source": [
    "# We can calculate the difference in purchase rates between customers\n",
    "# who had 3 number_of_pairs with ones who had 5.\n",
    "WITH funnel as ( SELECT DISTINCT q.user_id, \n",
    "    h.user_id IS NOT NULL AS 'is_home_try_on',\n",
    "    h.number_of_pairs,\n",
    "    p.user_id IS NOT NULL AS 'is_purchase'\n",
    "FROM quiz q\n",
    "LEFT JOIN home_try_on h\n",
    "    ON q.user_id = h.user_id\n",
    "LEFT JOIN purchase p\n",
    "    ON q.user_id = p.user_id)\n",
    "SELECT number_of_pairs, SUM(is_purchase) AS 'num_purchase'\n",
    "FROM funnel\n",
    "GROUP BY 1\n",
    "ORDER BY 1;"
   ]
  },
  {
   "cell_type": "code",
   "execution_count": null,
   "metadata": {},
   "outputs": [],
   "source": [
    "# We can compare conversion from quiz→home_try_on and home_try_on→purchase.\n",
    "WITH funnel as ( SELECT DISTINCT q.user_id, \n",
    "    h.user_id IS NOT NULL AS 'is_home_try_on',\n",
    "    h.number_of_pairs,\n",
    "    p.user_id IS NOT NULL AS 'is_purchase'\n",
    "FROM quiz q\n",
    "LEFT JOIN home_try_on h\n",
    "    ON q.user_id = h.user_id\n",
    "LEFT JOIN purchase p\n",
    "    ON q.user_id = p.user_id)\n",
    "SELECT COUNT(user_id), SUM(is_home_try_on), SUM(is_purchase),\n",
    "    1.0 * SUM(is_home_try_on) / COUNT(user_id) AS 'quiz_to_home',\n",
    "    1.0 * SUM(is_purchase) / SUM(is_home_try_on) AS 'home_to_purchase'\n",
    "FROM funnel;"
   ]
  },
  {
   "cell_type": "code",
   "execution_count": null,
   "metadata": {},
   "outputs": [],
   "source": [
    "# The most common results of the style quiz.\n",
    "SELECT style, COUNT(DISTINCT user_id) AS 'count'\n",
    "FROM quiz\n",
    "GROUP BY 1\n",
    "ORDER BY count DESC;"
   ]
  }
 ],
 "metadata": {
  "kernelspec": {
   "display_name": "Python 3",
   "language": "python",
   "name": "python3"
  },
  "language_info": {
   "codemirror_mode": {
    "name": "ipython",
    "version": 3
   },
   "file_extension": ".py",
   "mimetype": "text/x-python",
   "name": "python",
   "nbconvert_exporter": "python",
   "pygments_lexer": "ipython3",
   "version": "3.7.3"
  }
 },
 "nbformat": 4,
 "nbformat_minor": 2
}
